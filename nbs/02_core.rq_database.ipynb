{
 "cells": [
  {
   "cell_type": "code",
   "execution_count": null,
   "metadata": {},
   "outputs": [],
   "source": [
    "# default_exp core.rq_database"
   ]
  },
  {
   "cell_type": "code",
   "execution_count": null,
   "metadata": {},
   "outputs": [],
   "source": [
    "#hide\n",
    "%reload_ext autoreload\n",
    "%autoreload 2"
   ]
  },
  {
   "cell_type": "code",
   "execution_count": null,
   "metadata": {},
   "outputs": [],
   "source": [
    "#hide\n",
    "from nbdev.showdoc import *\n",
    "import json\n",
    "import responses\n",
    "from pathlib import Path\n",
    "from discogspy.core import *"
   ]
  },
  {
   "cell_type": "code",
   "execution_count": null,
   "metadata": {},
   "outputs": [],
   "source": [
    "#hide\n",
    "with open(Path(\"../config/example_user_info.json\"), \"r\") as user_config_file:\n",
    "    config = json.load(user_config_file)\n",
    "    example_user = UserWithUserTokenBasedAuthentication(user_token=config[\"user_token\"],\n",
    "                                                        user_agent=config[\"user_agent\"])"
   ]
  },
  {
   "cell_type": "markdown",
   "metadata": {},
   "source": [
    "# Core Database Requests\n",
    "\n",
    "> Core.rq_database is a collection of function wrappers around the Discogs api for database interactions."
   ]
  },
  {
   "cell_type": "code",
   "execution_count": null,
   "metadata": {},
   "outputs": [],
   "source": [
    "#export\n",
    "import requests\n",
    "from typing import Union\n",
    "from discogspy.core import *"
   ]
  },
  {
   "cell_type": "markdown",
   "metadata": {},
   "source": [
    "## Release"
   ]
  },
  {
   "cell_type": "code",
   "execution_count": null,
   "metadata": {},
   "outputs": [],
   "source": [
    "#export\n",
    "\n",
    "\n",
    "def get_release(user: Union[UserWithoutAuthentication,\n",
    "                            UserWithUserTokenBasedAuthentication], \n",
    "                release_id: int, \n",
    "                curr_abbr: Union[CurrAbbr, None] = None\n",
    "                ) -> requests.models.Response:\n",
    "    \"\"\"\n",
    "    Get information about a particular release from the Discogs database.\n",
    "    A release represents a particular physical or digital object released by \n",
    "    one or more Artists.\n",
    "    \n",
    "    No user Authentication needed.\n",
    "    \n",
    "    Parameters\n",
    "    ----------\n",
    "    user: user object\n",
    "        \n",
    "    release_id : number (required) \n",
    "        The Release ID.\n",
    "        \n",
    "    curr_abbr: string (optional)\n",
    "        Currency for marketplace data. Defaults to the authenticated users currency. \n",
    "    \"\"\"\n",
    "    url = f\"{RELEASES_URL}/{release_id}\"\n",
    "    headers = user.headers\n",
    "    params = user.params\n",
    "    if curr_abbr: \n",
    "        params[\"curr_abbr\"] = curr_abbr.value\n",
    "    return requests.get(url, headers=headers, params=params)"
   ]
  },
  {
   "cell_type": "code",
   "execution_count": null,
   "metadata": {},
   "outputs": [
    {
     "data": {
      "text/plain": [
       "<Response [200]>"
      ]
     },
     "execution_count": null,
     "metadata": {},
     "output_type": "execute_result"
    }
   ],
   "source": [
    "# Example for usage of get_releases\n",
    "get_release(user=example_user, release_id=6067651, curr_abbr=CurrAbbr.EUR)"
   ]
  },
  {
   "cell_type": "code",
   "execution_count": null,
   "metadata": {},
   "outputs": [],
   "source": [
    "#hide \n",
    "\n",
    "@responses.activate\n",
    "def test_get_release____authentication_none():\n",
    "    test_user = UserWithoutAuthentication()\n",
    "    target_url = f\"{RELEASES_URL}/123456?curr_abbr=EUR\"\n",
    "    result_content = {\"TestRelease\": \"TestContent\"}\n",
    "    \n",
    "    responses.add(responses.GET, target_url,\n",
    "                  json=result_content, status=200)\n",
    "\n",
    "    resp = get_release(user=test_user, release_id=123456, curr_abbr=CurrAbbr.EUR)\n",
    "\n",
    "    assert resp.json() == result_content\n",
    "    assert len(responses.calls) == 1\n",
    "    assert responses.calls[0].request.url == target_url\n",
    "\n",
    "test_get_release____authentication_none()\n",
    "\n",
    "@responses.activate\n",
    "def test_get_release___authentication_user_token():\n",
    "    test_user = UserWithUserTokenBasedAuthentication(user_token=\"test_user_token\",\n",
    "                                                     user_agent=\"test_user_agent\")\n",
    "\n",
    "    target_url = f\"{RELEASES_URL}/123456?token=test_user_token&curr_abbr=EUR\"\n",
    "    result_content = {\"TestRelease\": \"TestContent\"}\n",
    "    \n",
    "    responses.add(responses.GET, target_url,\n",
    "                  json=result_content, status=200)\n",
    "\n",
    "    resp = get_release(user=test_user, release_id=123456, curr_abbr=CurrAbbr.EUR)\n",
    "\n",
    "    assert resp.json() == result_content\n",
    "    assert len(responses.calls) == 1\n",
    "    assert responses.calls[0].request.url == target_url\n",
    "\n",
    "test_get_release___authentication_user_token()"
   ]
  },
  {
   "cell_type": "markdown",
   "metadata": {},
   "source": [
    "### Release Rating"
   ]
  },
  {
   "cell_type": "code",
   "execution_count": null,
   "metadata": {},
   "outputs": [],
   "source": [
    "#export\n",
    "\n",
    "\n",
    "def get_user_release_rating(user: Union[UserWithoutAuthentication,\n",
    "                                        UserWithUserTokenBasedAuthentication], \n",
    "                            release_id: int, \n",
    "                            username: str\n",
    "                            ) -> requests.models.Response:\n",
    "    \"\"\"\n",
    "    Get the rating of a release made by the given user.\n",
    "    \n",
    "    No user Authentication needed. \n",
    "    \n",
    "    Parameters\n",
    "    ----------\n",
    "    user: user object\n",
    "    \n",
    "    release_id : number (required) \n",
    "        The Release ID.\n",
    "        \n",
    "    username: string (required)\n",
    "        The username of the rating you are trying to request.\n",
    "    \"\"\"\n",
    "    url = f\"{RELEASES_URL}/{release_id}/rating/{username}\"\n",
    "    headers = user.headers\n",
    "    params = user.params\n",
    "    return requests.get(url, headers=headers, params=params)"
   ]
  },
  {
   "cell_type": "code",
   "execution_count": null,
   "metadata": {},
   "outputs": [
    {
     "data": {
      "text/plain": [
       "<Response [200]>"
      ]
     },
     "execution_count": null,
     "metadata": {},
     "output_type": "execute_result"
    }
   ],
   "source": [
    "# Example for usage of get_user_release_rating\n",
    "get_user_release_rating(user=example_user, release_id=9453891, username=\"darkwolf\")\n"
   ]
  },
  {
   "cell_type": "code",
   "execution_count": null,
   "metadata": {},
   "outputs": [],
   "source": [
    "#hide \n",
    "\n",
    "@responses.activate\n",
    "def test_get_user_release_rating____authentication_none():\n",
    "    test_user = UserWithoutAuthentication()\n",
    "    target_url = f\"{RELEASES_URL}/123456/rating/test_user_name\"\n",
    "    result_content = {\"username\": \"test_user_name\", \"rating\": 5, \"release_id\": 123456}\n",
    "    \n",
    "    responses.add(responses.GET, target_url,\n",
    "                  json=result_content, status=200)\n",
    "\n",
    "    resp = get_user_release_rating(user=test_user, release_id=123456, username=\"test_user_name\")\n",
    "\n",
    "    assert resp.json() == result_content\n",
    "    assert len(responses.calls) == 1\n",
    "    assert responses.calls[0].request.url == target_url\n",
    "\n",
    "test_get_user_release_rating____authentication_none()\n",
    "\n",
    "@responses.activate\n",
    "def test_get_user_release_rating___authentication_user_token():\n",
    "    test_user = UserWithUserTokenBasedAuthentication(user_token=\"test_user_token\",\n",
    "                                                     user_agent=\"test_user_agent\")\n",
    "    target_url = f\"{RELEASES_URL}/123456/rating/test_user_name?token=test_user_token\"\n",
    "    result_content = {\"username\": \"test_user_name\", \"rating\": 5, \"release_id\": 123456}\n",
    "    \n",
    "    responses.add(responses.GET, target_url,\n",
    "                  json=result_content, status=200)\n",
    "\n",
    "    resp = get_user_release_rating(user=test_user, release_id=123456, username=\"test_user_name\")\n",
    "\n",
    "    assert resp.json() == result_content\n",
    "    assert len(responses.calls) == 1\n",
    "    assert responses.calls[0].request.url == target_url\n",
    "\n",
    "test_get_user_release_rating___authentication_user_token()"
   ]
  },
  {
   "cell_type": "code",
   "execution_count": null,
   "metadata": {},
   "outputs": [],
   "source": [
    "# export\n",
    "\n",
    "\n",
    "def update_user_release_rating(user: UserWithUserTokenBasedAuthentication, \n",
    "                               release_id: int, \n",
    "                               username: str,\n",
    "                               rating: int\n",
    "                               ) -> requests.models.Response:\n",
    "    \"\"\"\n",
    "    Update the rating of a release made by the given user.\n",
    "    If there is no rating, it will create one.\n",
    "    \n",
    "    User Authentication needed. \n",
    "        \n",
    "    Parameters\n",
    "    ----------\n",
    "    user: user object\n",
    "    \n",
    "    release_id : number (required) \n",
    "        The Release ID.\n",
    "        \n",
    "    username: string (required)\n",
    "        The username of the rating you are trying to request.\n",
    "        \n",
    "    rating: int (required) \n",
    "        The new rating value. Must be a value between 1 and 5.\n",
    "        \n",
    "    \"\"\"\n",
    "    url = f\"{RELEASES_URL}/{release_id}/rating/{username}\"\n",
    "    headers = user.headers\n",
    "    params = user.params\n",
    "    rating = min(max(0, rating), 5)\n",
    "    data = {\"rating\": rating}\n",
    "    return requests.put(url, headers=headers, params=params, json=data)"
   ]
  },
  {
   "cell_type": "code",
   "execution_count": null,
   "metadata": {},
   "outputs": [
    {
     "data": {
      "text/plain": [
       "<Response [201]>"
      ]
     },
     "execution_count": null,
     "metadata": {},
     "output_type": "execute_result"
    }
   ],
   "source": [
    "# Example for usage of update_user_release_rating\n",
    "\n",
    "update_user_release_rating(example_user, release_id=11690093, \n",
    "                                     username=\"discogspy\", rating=5)"
   ]
  },
  {
   "cell_type": "code",
   "execution_count": null,
   "metadata": {},
   "outputs": [],
   "source": [
    "#hide\n",
    "@responses.activate\n",
    "def test_update_user_release_rating___authentication_user_token():\n",
    "    test_user = UserWithUserTokenBasedAuthentication(user_token=\"test_user_token\",\n",
    "                                                     user_agent=\"test_user_agent\")\n",
    "\n",
    "    target_url = f\"{RELEASES_URL}/123456/rating/test_user_name?token=test_user_token\"\n",
    "    result_content = {\"username\": \"test_user_name\", \"rating\": 5, \"release_id\": 123456}\n",
    "    \n",
    "    responses.add(responses.PUT, target_url,\n",
    "                  json=result_content, status=201)\n",
    "\n",
    "    resp = update_user_release_rating(test_user, release_id=123456, \n",
    "                                      username=\"test_user_name\", rating=5)\n",
    "   \n",
    "    assert resp.json() == result_content\n",
    "    assert len(responses.calls) == 1\n",
    "    assert responses.calls[0].request.url == target_url\n",
    "\n",
    "test_update_user_release_rating___authentication_user_token()\n",
    "\n",
    "@responses.activate\n",
    "def test_update_user_release_rating_with_rating_higher_5___authentication_user_token():\n",
    "    test_user = UserWithUserTokenBasedAuthentication(user_token=\"test_user_token\",\n",
    "                                                     user_agent=\"test_user_agent\")\n",
    "\n",
    "    target_url = f\"{RELEASES_URL}/123456/rating/test_user_name?token=test_user_token\"\n",
    "    result_content = {\"username\": \"test_user_name\", \"rating\": 5, \"release_id\": 123456}\n",
    "    \n",
    "    responses.add(responses.PUT, target_url,\n",
    "                  json=result_content, status=201)\n",
    "\n",
    "    resp = update_user_release_rating(test_user, release_id=123456, \n",
    "                                      username=\"test_user_name\", rating=6)\n",
    "   \n",
    "    assert resp.json() == result_content\n",
    "    assert len(responses.calls) == 1\n",
    "    assert responses.calls[0].request.url == target_url\n",
    "\n",
    "test_update_user_release_rating_with_rating_higher_5___authentication_user_token()\n",
    "\n",
    "@responses.activate\n",
    "def test_update_user_release_rating_with_rating_lower_0___authentication_user_token():\n",
    "    test_user = UserWithUserTokenBasedAuthentication(user_token=\"test_user_token\",\n",
    "                                                     user_agent=\"test_user_agent\")\n",
    "\n",
    "    target_url = f\"{RELEASES_URL}/123456/rating/test_user_name?token=test_user_token\"\n",
    "    result_content = {\"username\": \"test_user_name\", \"rating\": 5, \"release_id\": 123456}\n",
    "    \n",
    "    responses.add(responses.PUT, target_url,\n",
    "                  json=result_content, status=201)\n",
    "\n",
    "    resp = update_user_release_rating(test_user, release_id=123456, \n",
    "                                      username=\"test_user_name\", rating=-5)\n",
    "   \n",
    "    assert resp.json() == result_content\n",
    "    assert len(responses.calls) == 1\n",
    "    assert responses.calls[0].request.url == target_url\n",
    "\n",
    "test_update_user_release_rating_with_rating_lower_0___authentication_user_token()"
   ]
  },
  {
   "cell_type": "code",
   "execution_count": null,
   "metadata": {},
   "outputs": [],
   "source": [
    "# export\n",
    "\n",
    "\n",
    "def delete_user_release_rating(user: UserWithUserTokenBasedAuthentication, \n",
    "                               release_id: int, \n",
    "                               username: str\n",
    "                               ) -> requests.models.Response:\n",
    "    \"\"\"\n",
    "    Delete the rating of a release made by the given user.\n",
    "    \n",
    "    User Authentication needed. \n",
    "    \n",
    "    Parameters\n",
    "    ----------\n",
    "    user: user object\n",
    "    \n",
    "    release_id : number (required) \n",
    "        The Release ID.\n",
    "        \n",
    "    username: string (required)\n",
    "        The username of the rating you are trying to delete.\n",
    "        \n",
    "    \"\"\"\n",
    "    url = f\"{RELEASES_URL}/{release_id}/rating/{username}\"\n",
    "    headers = user.headers\n",
    "    params = user.params\n",
    "    return requests.delete(url, headers=headers, params=params)"
   ]
  },
  {
   "cell_type": "code",
   "execution_count": null,
   "metadata": {},
   "outputs": [
    {
     "data": {
      "text/plain": [
       "<Response [204]>"
      ]
     },
     "execution_count": null,
     "metadata": {},
     "output_type": "execute_result"
    }
   ],
   "source": [
    "# Example for usage of delete_user_release_rating\n",
    "\n",
    "delete_user_release_rating(example_user, release_id=11690093, username=\"discogspy\")"
   ]
  },
  {
   "cell_type": "code",
   "execution_count": null,
   "metadata": {},
   "outputs": [],
   "source": [
    "#hide\n",
    "\n",
    "@responses.activate\n",
    "def test_delete_user_release_rating___authentication_user_token():\n",
    "    test_user = UserWithUserTokenBasedAuthentication(user_token=\"test_user_token\",\n",
    "                                                     user_agent=\"test_user_agent\")\n",
    "    target_url = f\"{RELEASES_URL}/123456/rating/test_user_name?token=test_user_token\"\n",
    "    result_content = {}\n",
    "    \n",
    "    responses.add(responses.DELETE, target_url,\n",
    "                  json=result_content, status=204)\n",
    "\n",
    "    resp = delete_user_release_rating(user=test_user, release_id=123456, \n",
    "                                      username=\"test_user_name\")\n",
    "\n",
    "    assert resp.json() == result_content\n",
    "    assert len(responses.calls) == 1\n",
    "    assert responses.calls[0].request.url == target_url\n",
    "\n",
    "test_delete_user_release_rating___authentication_user_token()"
   ]
  },
  {
   "cell_type": "code",
   "execution_count": null,
   "metadata": {},
   "outputs": [],
   "source": [
    "# export\n",
    "\n",
    "\n",
    "def get_community_release_rating(user: Union[UserWithoutAuthentication,\n",
    "                                             UserWithUserTokenBasedAuthentication], \n",
    "                                 release_id: int\n",
    "                                 ) -> requests.models.Response:\n",
    "    \"\"\"\n",
    "    Get the rating of a release made by the community.\n",
    "    A community release rating includes the average rating and \n",
    "    the total number of user ratings for a given release.\n",
    "    \n",
    "    This function doesn't work for master releases!\n",
    "    \n",
    "    No user Authentication needed. \n",
    "    \n",
    "    Parameters\n",
    "    ----------\n",
    "    user: user object\n",
    "    \n",
    "    release_id : number (required) \n",
    "        The Release ID.\n",
    "       \n",
    "    \"\"\"\n",
    "    url = f\"{RELEASES_URL}/{release_id}/rating\"\n",
    "    headers = user.headers\n",
    "    params = user.params\n",
    "    return requests.get(url, headers=headers, params=params)"
   ]
  },
  {
   "cell_type": "code",
   "execution_count": null,
   "metadata": {},
   "outputs": [
    {
     "data": {
      "text/plain": [
       "<Response [200]>"
      ]
     },
     "execution_count": null,
     "metadata": {},
     "output_type": "execute_result"
    }
   ],
   "source": [
    "# Example for usage of get_community_release_rating\n",
    "\n",
    "get_community_release_rating(example_user, release_id=1995816)"
   ]
  },
  {
   "cell_type": "code",
   "execution_count": null,
   "metadata": {},
   "outputs": [],
   "source": [
    "#hide\n",
    "\n",
    "@responses.activate\n",
    "def test_get_community_release_rating___authentication_none():\n",
    "    test_user = UserWithoutAuthentication()\n",
    "    target_url = f\"{RELEASES_URL}/123456/rating\"\n",
    "    result_content = {\"rating\": {\"count\": 19, \"average\": 4.89}, \"release_id\": 1995816}\n",
    "    \n",
    "    responses.add(responses.GET, target_url,\n",
    "                  json=result_content, status=200)\n",
    "\n",
    "    resp = get_community_release_rating(user=test_user, release_id=123456)\n",
    "\n",
    "    assert resp.json() == result_content\n",
    "    assert len(responses.calls) == 1\n",
    "    assert responses.calls[0].request.url == target_url\n",
    "\n",
    "test_get_community_release_rating___authentication_none()\n",
    "\n",
    "@responses.activate\n",
    "def test_get_community_release_rating___authentication_user_token():\n",
    "\n",
    "    test_user = UserWithUserTokenBasedAuthentication(user_token=\"test_user_token\",\n",
    "                                                     user_agent=\"test_user_agent\")\n",
    "    target_url = f\"{RELEASES_URL}/123456/rating?token=test_user_token\"\n",
    "    result_content = {\"rating\": {\"count\": 19, \"average\": 4.89}, \"release_id\": 1995816}\n",
    "    \n",
    "    responses.add(responses.GET, target_url,\n",
    "                  json=result_content, status=200)\n",
    "\n",
    "    resp = get_community_release_rating(user=test_user, release_id=123456)\n",
    "\n",
    "    assert resp.json() == result_content\n",
    "    assert len(responses.calls) == 1\n",
    "    assert responses.calls[0].request.url == target_url\n",
    "\n",
    "test_get_community_release_rating___authentication_user_token()"
   ]
  },
  {
   "cell_type": "markdown",
   "metadata": {},
   "source": [
    "### Master Release"
   ]
  },
  {
   "cell_type": "code",
   "execution_count": null,
   "metadata": {},
   "outputs": [],
   "source": [
    "#export\n",
    "\n",
    "\n",
    "def get_master_release(user: Union[UserWithoutAuthentication,\n",
    "                                   UserWithUserTokenBasedAuthentication], \n",
    "                       master_id: int\n",
    "                       ) -> requests.models.Response:\n",
    "    \"\"\"\n",
    "    Get information to a particular master release from Discogs database.\n",
    "    A Master release represents a set of similar Releases. \n",
    "    Masters releases have a “main release” which is often the chronologically earliest.\n",
    "    \n",
    "    No user Authentication needed.\n",
    "    \n",
    "    Parameters\n",
    "    ----------\n",
    "    user: user object\n",
    "    \n",
    "    master_id : number (required) \n",
    "        The Master ID.\n",
    "\n",
    "    \"\"\"\n",
    "    url = f\"{MASTERS_URL}/{master_id}\"\n",
    "    headers = user.headers\n",
    "    params = user.params\n",
    "    return requests.get(url, headers=headers, params=params)"
   ]
  },
  {
   "cell_type": "code",
   "execution_count": null,
   "metadata": {},
   "outputs": [
    {
     "data": {
      "text/plain": [
       "<Response [200]>"
      ]
     },
     "execution_count": null,
     "metadata": {},
     "output_type": "execute_result"
    }
   ],
   "source": [
    "# Example for usage of get_master_release\n",
    "\n",
    "get_master_release(example_user, master_id=195663)"
   ]
  },
  {
   "cell_type": "code",
   "execution_count": null,
   "metadata": {},
   "outputs": [],
   "source": [
    "#hide\n",
    "\n",
    "@responses.activate\n",
    "def test_get_master_release___authentication_none():\n",
    "    test_user = UserWithoutAuthentication()\n",
    "    target_url = f\"{MASTERS_URL}/123456\"\n",
    "    result_content = {\"TestMaster\": \"TestContent\"}\n",
    "    \n",
    "    responses.add(responses.GET, target_url,\n",
    "                  json=result_content, status=200)\n",
    "\n",
    "    resp = get_master_release(user=test_user, master_id=123456)\n",
    "\n",
    "    assert resp.json() == result_content\n",
    "    assert len(responses.calls) == 1\n",
    "    assert responses.calls[0].request.url == target_url\n",
    "\n",
    "test_get_master_release___authentication_none()\n",
    "\n",
    "@responses.activate\n",
    "def test_get_master_release___authentication_user_token():\n",
    "    test_user = UserWithUserTokenBasedAuthentication(user_token=\"test_user_token\",\n",
    "                                                     user_agent=\"test_user_agent\")\n",
    "    target_url = f\"{MASTERS_URL}/123456?token=test_user_token\"\n",
    "    result_content = {\"TestMaster\": \"TestContent\"}\n",
    "    \n",
    "    responses.add(responses.GET, target_url,\n",
    "                  json=result_content, status=200)\n",
    "\n",
    "    resp = get_master_release(user=test_user, master_id=123456)\n",
    "\n",
    "    assert resp.json() == result_content\n",
    "    assert len(responses.calls) == 1\n",
    "    assert responses.calls[0].request.url == target_url\n",
    "    \n",
    "test_get_master_release___authentication_user_token()"
   ]
  },
  {
   "cell_type": "code",
   "execution_count": null,
   "metadata": {},
   "outputs": [],
   "source": [
    "#export\n",
    "\n",
    "\n",
    "def get_releases_related_to_master_release(user: Union[UserWithoutAuthentication,\n",
    "                                                       UserWithUserTokenBasedAuthentication], \n",
    "                                           master_id: int,\n",
    "                                           page: Union[int, None] = None,\n",
    "                                           per_page: Union[int, None] = None,\n",
    "                                           release_format: Union[str, None] = None,\n",
    "                                           label: Union[str, None] = None,\n",
    "                                           released: Union[str, None] = None, \n",
    "                                           country: Union[str, None] = None,\n",
    "                                           sort: Union[SortOptionsMaster, None] = None, \n",
    "                                           sort_order: Union[SortOrder, None] = None\n",
    "                                           ) -> requests.models.Response:\n",
    "    \"\"\"\n",
    "    Get a list of all Releases that are versions of the given master release.\n",
    "    \n",
    "    No user Authentication needed.\n",
    "    \n",
    "    Parameters\n",
    "    ----------\n",
    "    user: user object.\n",
    "    \n",
    "    master_id : number (required) \n",
    "        The Master ID.\n",
    "    \n",
    "    page: number (optional) \n",
    "        The page you want to request.\n",
    "        \n",
    "    per_page: number (optional)\n",
    "        The number of items per page.\n",
    "        \n",
    "    release_format: string (optional)\n",
    "        The format to filter.\n",
    "        \n",
    "    label: string (optional)\n",
    "        The label to filter.\n",
    "        \n",
    "    released: string (optional)\n",
    "        The release year to filter.\n",
    "        \n",
    "    country: string (optional)\n",
    "        The country to filter.\n",
    "        \n",
    "    sort: string (optional)\n",
    "        Sort items by this field.\n",
    "        \n",
    "    sort_order: string (optional)\n",
    "        Sort items in a particular order (one of asc, desc)\n",
    "    \"\"\"\n",
    "\n",
    "    url = f\"{MASTERS_URL}/{master_id}/versions\"\n",
    "    headers = user.headers\n",
    "    params = user.params\n",
    "    if page:\n",
    "        params[\"page\"] = max(1, page)\n",
    "    if per_page:\n",
    "        params[\"per_page\"] = max(1, per_page)\n",
    "    if release_format:\n",
    "        params[\"format\"] = release_format\n",
    "    if label:\n",
    "        params[\"label\"] = label\n",
    "    if released:\n",
    "        params[\"released\"] = released\n",
    "    if country:\n",
    "        params[\"country\"] = country\n",
    "    if sort:\n",
    "        params[\"sort\"] = sort.value\n",
    "    if sort_order:\n",
    "        params[\"sort_order\"] = sort_order.value\n",
    "    return requests.get(url, headers=headers, params=params)"
   ]
  },
  {
   "cell_type": "code",
   "execution_count": null,
   "metadata": {},
   "outputs": [
    {
     "data": {
      "text/plain": [
       "<Response [200]>"
      ]
     },
     "execution_count": null,
     "metadata": {},
     "output_type": "execute_result"
    }
   ],
   "source": [
    "# Example for usage of get_releases_related_to_master_release\n",
    "\n",
    "get_releases_related_to_master_release(example_user, master_id=57960, \n",
    "                                       release_format=\"Cassette\", label=\"Roadrunner Records\")"
   ]
  },
  {
   "cell_type": "code",
   "execution_count": null,
   "metadata": {},
   "outputs": [],
   "source": [
    "#hide\n",
    "\n",
    "@responses.activate\n",
    "def test_get_releases_related_to_master_release___authentication_none():\n",
    "    test_user = UserWithoutAuthentication()\n",
    "    target_url = f\"{MASTERS_URL}/123456/versions?page=1&per_page=50&format=CD&label=label&\" \\\n",
    "                 f\"released=1989&country=country&sort=released&sort_order=asc\"\n",
    "    \n",
    "    result_content = {\"TestMaster\": \"TestContent\"}\n",
    "    \n",
    "    responses.add(responses.GET, target_url,\n",
    "                  json=result_content, status=200)\n",
    "\n",
    "    resp = get_releases_related_to_master_release(user=test_user, master_id=123456,\n",
    "                                                  page=1, per_page=50, release_format=\"CD\",\n",
    "                                                  label=\"label\", released=\"1989\",\n",
    "                                                  country=\"country\", sort=SortOptionsMaster.released,\n",
    "                                                  sort_order=SortOrder.asc)\n",
    "\n",
    "    assert resp.json() == result_content\n",
    "    assert len(responses.calls) == 1\n",
    "    assert responses.calls[0].request.url == target_url\n",
    "\n",
    "test_get_releases_related_to_master_release___authentication_none()\n",
    "\n",
    "@responses.activate\n",
    "def test_get_releases_related_to_master_release___authentication_user_token():\n",
    "    test_user = UserWithUserTokenBasedAuthentication(user_token=\"test_user_token\",\n",
    "                                                     user_agent=\"test_user_agent\")\n",
    "\n",
    "    target_url = f\"{MASTERS_URL}/123456/versions?token=test_user_token&page=1&per_page=50&\" \\\n",
    "                 f\"format=CD&label=label&released=1989&country=country&sort=released&sort_order=asc\"\n",
    "    result_content = {\"TestMaster\": \"TestContent\"}\n",
    "    \n",
    "    responses.add(responses.GET, target_url,\n",
    "                  json=result_content, status=200)\n",
    "\n",
    "    resp = get_releases_related_to_master_release(user=test_user, master_id=123456,\n",
    "                                                  page=1, per_page=50, release_format=\"CD\",\n",
    "                                                  label=\"label\", released=\"1989\",\n",
    "                                                  country=\"country\", sort=SortOptionsMaster.released,\n",
    "                                                  sort_order=SortOrder.asc)\n",
    "\n",
    "    assert resp.json() == result_content\n",
    "    assert len(responses.calls) == 1\n",
    "    assert responses.calls[0].request.url == target_url\n",
    "    \n",
    "test_get_releases_related_to_master_release___authentication_user_token()"
   ]
  },
  {
   "cell_type": "markdown",
   "metadata": {},
   "source": [
    "## Artist\n",
    "\n",
    "An Artist represents a person in the Discogs database who contributed to a Release in some capacity."
   ]
  },
  {
   "cell_type": "code",
   "execution_count": null,
   "metadata": {},
   "outputs": [],
   "source": [
    "#export\n",
    "\n",
    "\n",
    "def get_artist(user: Union[UserWithoutAuthentication,\n",
    "                           UserWithUserTokenBasedAuthentication], \n",
    "               artist_id: int\n",
    "               ) -> requests.models.Response:\n",
    "    \"\"\"\n",
    "    Get information about an artist.\n",
    "     \n",
    "    No user Authentication needed. \n",
    "    \n",
    "    Parameters\n",
    "    ----------\n",
    "    user: user object.\n",
    "    \n",
    "    artist_id : number (required) \n",
    "        The Artist ID.\n",
    "        \n",
    "    \"\"\"\n",
    "    url = f\"{ARTIST_URL}/{artist_id}\"\n",
    "    headers = user.headers\n",
    "    params = user.params\n",
    "    return requests.get(url, headers=headers, params=params)"
   ]
  },
  {
   "cell_type": "code",
   "execution_count": null,
   "metadata": {},
   "outputs": [
    {
     "data": {
      "text/plain": [
       "<Response [200]>"
      ]
     },
     "execution_count": null,
     "metadata": {},
     "output_type": "execute_result"
    }
   ],
   "source": [
    "# Example for usage of get_artist\n",
    "get_artist(user=example_user, artist_id=1516559)"
   ]
  },
  {
   "cell_type": "code",
   "execution_count": null,
   "metadata": {},
   "outputs": [],
   "source": [
    "#hide\n",
    "\n",
    "@responses.activate\n",
    "def test_get_artist___authentication_none():\n",
    "    test_user = UserWithoutAuthentication()\n",
    "    \n",
    "    target_url = f\"{ARTIST_URL}/123456\"\n",
    "    \n",
    "    result_content = {\"TestArtist\": \"TestContent\"}\n",
    "    \n",
    "    responses.add(responses.GET, target_url,\n",
    "                  json=result_content, status=200)\n",
    "\n",
    "    resp = get_artist(user=test_user, artist_id=123456)\n",
    "\n",
    "    assert resp.json() == result_content\n",
    "    assert len(responses.calls) == 1\n",
    "    assert responses.calls[0].request.url == target_url\n",
    "\n",
    "test_get_artist___authentication_none()\n",
    "\n",
    "@responses.activate\n",
    "def test_get_artist___authentication_user_token():\n",
    "    test_user = UserWithUserTokenBasedAuthentication(user_token=\"test_user_token\",\n",
    "                                                     user_agent=\"test_user_agent\")\n",
    "\n",
    "    target_url = f\"{ARTIST_URL}/123456?token=test_user_token\"\n",
    "    \n",
    "    result_content = {\"TestArtist\": \"TestContent\"}\n",
    "    \n",
    "    responses.add(responses.GET, target_url,\n",
    "                  json=result_content, status=200)\n",
    "\n",
    "    resp = get_artist(user=test_user, artist_id=123456)\n",
    "\n",
    "    assert resp.json() == result_content\n",
    "    assert len(responses.calls) == 1\n",
    "    assert responses.calls[0].request.url == target_url\n",
    "    \n",
    "test_get_artist___authentication_user_token()"
   ]
  },
  {
   "cell_type": "code",
   "execution_count": null,
   "metadata": {},
   "outputs": [],
   "source": [
    "#export\n",
    "\n",
    "\n",
    "def get_artist_releases(user: Union[UserWithoutAuthentication,\n",
    "                                    UserWithUserTokenBasedAuthentication], \n",
    "                        artist_id: int,\n",
    "                        page: Union[int, None] = None,\n",
    "                        per_page: Union[int, None] = None,\n",
    "                        sort: Union[SortOptionsArtist, None] = None,\n",
    "                        sort_order: Union[SortOrder, None] = None\n",
    "                        ) -> requests.models.Response:\n",
    "    \"\"\"\n",
    "    Get a list of releases and masters associated with the given artist.\n",
    "    \n",
    "    No user Authentication needed. \n",
    "    \n",
    "    Parameters\n",
    "    ----------\n",
    "    user: user object.\n",
    "    \n",
    "    artist_id : number (required) \n",
    "        The Artist ID.\n",
    "    \n",
    "    page: number (optional) \n",
    "        The page you want to request.\n",
    "        \n",
    "    per_page: number (optional)\n",
    "        The number of items per page.\n",
    "        \n",
    "    sort: string (optional)\n",
    "        Sort items by this field.\n",
    "        \n",
    "    sort_order: string (optional)\n",
    "        Sort items in a particular order (one of asc, desc)\n",
    "    \"\"\"\n",
    "    url = f\"{ARTIST_URL}/{artist_id}/releases\"\n",
    "    headers = user.headers\n",
    "    params = user.params\n",
    "    \n",
    "    if page:\n",
    "        params[\"page\"] = max(1, page)\n",
    "    if per_page:\n",
    "        params[\"per_page\"] = max(1, per_page)\n",
    "    if sort:\n",
    "        params[\"sort\"] = sort.value\n",
    "    if sort_order:\n",
    "        params[\"sort_order\"] = sort_order.value\n",
    "        \n",
    "    return requests.get(url, headers=headers, params=params)"
   ]
  },
  {
   "cell_type": "code",
   "execution_count": null,
   "metadata": {},
   "outputs": [
    {
     "data": {
      "text/plain": [
       "<Response [200]>"
      ]
     },
     "execution_count": null,
     "metadata": {},
     "output_type": "execute_result"
    }
   ],
   "source": [
    "# Example for usage of get_artist_releases\n",
    "get_artist_releases(user=example_user, artist_id=1516559, page=1, per_page=3, \n",
    "                    sort=SortOptionsArtist.year, sort_order=SortOrder.desc)"
   ]
  },
  {
   "cell_type": "code",
   "execution_count": null,
   "metadata": {},
   "outputs": [],
   "source": [
    "#hide\n",
    "\n",
    "@responses.activate\n",
    "def test_get_artist_releases___authentication_none():\n",
    "    test_user = UserWithoutAuthentication()\n",
    "    \n",
    "    target_url = f\"{ARTIST_URL}/123456/releases?page=1&per_page=3&sort=year&sort_order=desc\"\n",
    "    \n",
    "    result_content = {\"TestArtist\": \"TestContent\"}\n",
    "    \n",
    "    responses.add(responses.GET, target_url,\n",
    "                  json=result_content, status=200)\n",
    "\n",
    "    resp = get_artist_releases(user=test_user, artist_id=123456, page=1, \n",
    "                               per_page=3, sort=SortOptionsArtist.year, sort_order=SortOrder.desc)\n",
    "\n",
    "\n",
    "    assert resp.json() == result_content\n",
    "    assert len(responses.calls) == 1\n",
    "    assert responses.calls[0].request.url == target_url\n",
    "\n",
    "test_get_artist_releases___authentication_none()\n",
    "\n",
    "@responses.activate\n",
    "def test_get_artist_releases___authentication_user_token():\n",
    "    test_user = UserWithUserTokenBasedAuthentication(user_token=\"test_user_token\",\n",
    "                                                     user_agent=\"test_user_agent\")\n",
    "\n",
    "    target_url = f\"{ARTIST_URL}/123456/releases?token=test_user_token&page=1&per_page=3&sort=year&sort_order=desc\"\n",
    "    \n",
    "    result_content = {\"TestArtist\": \"TestContent\"}\n",
    "    \n",
    "    responses.add(responses.GET, target_url,\n",
    "                  json=result_content, status=200)\n",
    "\n",
    "    resp = get_artist_releases(user=test_user, artist_id=123456, page=1, \n",
    "                               per_page=3, sort=SortOptionsArtist.year, sort_order=SortOrder.desc)\n",
    "\n",
    "    assert resp.json() == result_content\n",
    "    assert len(responses.calls) == 1\n",
    "    assert responses.calls[0].request.url == target_url\n",
    "    \n",
    "test_get_artist_releases___authentication_user_token()"
   ]
  },
  {
   "cell_type": "markdown",
   "metadata": {},
   "source": [
    "## Label\n",
    "\n",
    "A label resource represents a label, company, recording studio, location, or other entity involved with artists and releases. "
   ]
  },
  {
   "cell_type": "code",
   "execution_count": null,
   "metadata": {},
   "outputs": [],
   "source": [
    "#export\n",
    "\n",
    "\n",
    "def get_label(user: Union[UserWithoutAuthentication,\n",
    "                          UserWithUserTokenBasedAuthentication], \n",
    "              label_id: int\n",
    "              ) -> requests.models.Response:\n",
    "    \"\"\"\n",
    "    Get information about a label.\n",
    "    \n",
    "    No user Authentication needed. \n",
    "    \n",
    "    Parameters\n",
    "    ----------\n",
    "    user: user object.\n",
    "    \n",
    "    label_id : number (required) \n",
    "        The Label ID.\n",
    "\n",
    "    \"\"\"\n",
    "    url = f\"{LABEL_URL}/{label_id}\"\n",
    "    headers = user.headers\n",
    "    params = user.params\n",
    "        \n",
    "    return requests.get(url, headers=headers, params=params)"
   ]
  },
  {
   "cell_type": "code",
   "execution_count": null,
   "metadata": {},
   "outputs": [
    {
     "data": {
      "text/plain": [
       "<Response [200]>"
      ]
     },
     "execution_count": null,
     "metadata": {},
     "output_type": "execute_result"
    }
   ],
   "source": [
    "# Example for usage of get_label\n",
    "get_label(user=example_user, label_id=18263)"
   ]
  },
  {
   "cell_type": "code",
   "execution_count": null,
   "metadata": {},
   "outputs": [],
   "source": [
    "#hide\n",
    "\n",
    "@responses.activate\n",
    "def test_get_label___authentication_none():\n",
    "    test_user = UserWithoutAuthentication()\n",
    "    \n",
    "    target_url = f\"{LABEL_URL}/123456\"\n",
    "    \n",
    "    result_content = {\"TestLabel\": \"TestContent\"}\n",
    "    \n",
    "    responses.add(responses.GET, target_url,\n",
    "                  json=result_content, status=200)\n",
    "\n",
    "    resp = get_label(user=test_user, label_id=123456)\n",
    "\n",
    "    assert resp.json() == result_content\n",
    "    assert len(responses.calls) == 1\n",
    "    assert responses.calls[0].request.url == target_url\n",
    "\n",
    "test_get_label___authentication_none()\n",
    "\n",
    "@responses.activate\n",
    "def test_get_label___authentication_user_token():\n",
    "    test_user = UserWithUserTokenBasedAuthentication(user_token=\"test_user_token\",\n",
    "                                                     user_agent=\"test_user_agent\")\n",
    "\n",
    "    target_url = f\"{LABEL_URL}/123456?token=test_user_token\"\n",
    "    \n",
    "    result_content = {\"TestLabel\": \"TestContent\"}\n",
    "    \n",
    "    responses.add(responses.GET, target_url,\n",
    "                  json=result_content, status=200)\n",
    "\n",
    "    resp = get_label(user=test_user, label_id=123456)\n",
    "\n",
    "    assert resp.json() == result_content\n",
    "    assert len(responses.calls) == 1\n",
    "    assert responses.calls[0].request.url == target_url\n",
    "    \n",
    "test_get_label___authentication_user_token()"
   ]
  },
  {
   "cell_type": "code",
   "execution_count": null,
   "metadata": {},
   "outputs": [],
   "source": [
    "#export\n",
    "\n",
    "\n",
    "def get_label_releases(user: Union[UserWithoutAuthentication,\n",
    "                                   UserWithUserTokenBasedAuthentication], \n",
    "                       label_id: int,\n",
    "                       page: Union[int, None] = None,\n",
    "                       per_page: Union[int, None] = None,\n",
    "                       sort: Union[SortOptionsLabel, None] = None,\n",
    "                       sort_order: Union[SortOrder, None] = None\n",
    "                       ) -> requests.models.Response:\n",
    "    \"\"\"\n",
    "    Get a list of releases and masters associated with the given label.\n",
    "    \n",
    "    No user Authentication needed. \n",
    "    \n",
    "    Parameters\n",
    "    ----------\n",
    "    user: user object.\n",
    "    \n",
    "    label_id : number (required) \n",
    "        The Label ID.\n",
    "    \n",
    "    page: number (optional) \n",
    "        The page you want to request.\n",
    "        \n",
    "    per_page: number (optional)\n",
    "        The number of items per page.\n",
    "        \n",
    "    sort: string (optional)\n",
    "        Sort items by this field.\n",
    "        \n",
    "    sort_order: string (optional)\n",
    "        Sort items in a particular order (one of asc, desc)\n",
    "    \"\"\"\n",
    "    url = f\"{LABEL_URL}/{label_id}/releases\"\n",
    "    headers = user.headers\n",
    "    params = user.params\n",
    "    \n",
    "    if page:\n",
    "        params[\"page\"] = max(1, page)\n",
    "    if per_page:\n",
    "        params[\"per_page\"] = max(1, per_page)\n",
    "    if sort:\n",
    "        params[\"sort\"] = sort.value\n",
    "    if sort_order:\n",
    "        params[\"sort_order\"] = sort_order.value\n",
    "        \n",
    "    return requests.get(url, headers=headers, params=params)"
   ]
  },
  {
   "cell_type": "code",
   "execution_count": null,
   "metadata": {},
   "outputs": [
    {
     "data": {
      "text/plain": [
       "<Response [200]>"
      ]
     },
     "execution_count": null,
     "metadata": {},
     "output_type": "execute_result"
    }
   ],
   "source": [
    "# Example for usage of get_label_releases\n",
    "get_label_releases(user=example_user, label_id=18263, page=1, per_page=3, \n",
    "                   sort=SortOptionsLabel.year, sort_order=SortOrder.desc)"
   ]
  },
  {
   "cell_type": "code",
   "execution_count": null,
   "metadata": {},
   "outputs": [],
   "source": [
    "#hide\n",
    "\n",
    "@responses.activate\n",
    "def test_get_label_releases___authentication_none():\n",
    "    test_user = UserWithoutAuthentication()\n",
    "    \n",
    "    target_url = f\"{LABEL_URL}/123456/releases?page=1&per_page=3&sort=year&sort_order=desc\"\n",
    "    \n",
    "    result_content = {\"TestLabel\": \"TestContent\"}\n",
    "    \n",
    "    responses.add(responses.GET, target_url,\n",
    "                  json=result_content, status=200)\n",
    "\n",
    "    resp = get_label_releases(user=test_user, label_id=123456, page=1, \n",
    "                              per_page=3, sort=SortOptionsLabel.year, sort_order=SortOrder.desc)\n",
    "\n",
    "    assert resp.json() == result_content\n",
    "    assert len(responses.calls) == 1\n",
    "    assert responses.calls[0].request.url == target_url\n",
    "\n",
    "test_get_label_releases___authentication_none()\n",
    "\n",
    "@responses.activate\n",
    "def test_get_label_releases___authentication_user_token():\n",
    "    test_user = UserWithUserTokenBasedAuthentication(user_token=\"test_user_token\",\n",
    "                                                     user_agent=\"test_user_agent\")\n",
    "\n",
    "    target_url = f\"{LABEL_URL}/123456/releases?token=test_user_token&page=1&per_page=3&sort=year&sort_order=desc\"\n",
    "    \n",
    "    result_content = {\"TestLabel\": \"TestContent\"}\n",
    "    \n",
    "    responses.add(responses.GET, target_url,\n",
    "                  json=result_content, status=200)\n",
    "\n",
    "    resp = get_label_releases(user=test_user, label_id=123456, page=1, \n",
    "                              per_page=3, sort=SortOptionsLabel.year, sort_order=SortOrder.desc)\n",
    "\n",
    "    assert resp.json() == result_content\n",
    "    assert len(responses.calls) == 1\n",
    "    assert responses.calls[0].request.url == target_url\n",
    "    \n",
    "test_get_label_releases___authentication_user_token()"
   ]
  },
  {
   "cell_type": "code",
   "execution_count": null,
   "metadata": {},
   "outputs": [
    {
     "name": "stdout",
     "output_type": "stream",
     "text": [
      "Converted 00_core.constants.ipynb.\n",
      "Converted 01_core.discogs_user.ipynb.\n",
      "Converted 02_core.rq_database.ipynb.\n",
      "Converted 03_core.rq_marketplace.ipynb.\n",
      "Converted index.ipynb.\n"
     ]
    }
   ],
   "source": [
    "#hide\n",
    "\n",
    "from nbdev.export import *\n",
    "notebook2script()"
   ]
  }
 ],
 "metadata": {
  "kernelspec": {
   "display_name": "Python 3",
   "language": "python",
   "name": "python3"
  }
 },
 "nbformat": 4,
 "nbformat_minor": 2
}
