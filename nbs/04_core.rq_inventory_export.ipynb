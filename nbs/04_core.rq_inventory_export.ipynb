{
 "cells": [
  {
   "cell_type": "code",
   "execution_count": null,
   "metadata": {},
   "outputs": [],
   "source": [
    "# default_exp core.rq_inventory_export"
   ]
  },
  {
   "cell_type": "code",
   "execution_count": null,
   "metadata": {},
   "outputs": [],
   "source": [
    "#hide\n",
    "%reload_ext autoreload\n",
    "%autoreload 2"
   ]
  },
  {
   "cell_type": "code",
   "execution_count": null,
   "metadata": {},
   "outputs": [],
   "source": [
    "#hide\n",
    "from nbdev.showdoc import *\n",
    "import json\n",
    "import responses\n",
    "from pathlib import Path\n",
    "from discogspy.core import *"
   ]
  },
  {
   "cell_type": "code",
   "execution_count": null,
   "metadata": {},
   "outputs": [],
   "source": [
    "#hide\n",
    "with open(Path(\"../config/example_user_info.json\"), \"r\") as user_config_file:\n",
    "    config = json.load(user_config_file)\n",
    "    example_user = UserWithUserTokenBasedAuthentication(user_token=config[\"user_token\"],\n",
    "                                                        user_agent=config[\"user_agent\"])"
   ]
  },
  {
   "cell_type": "markdown",
   "metadata": {},
   "source": [
    "# Core Inventory Export Requests\n",
    "\n",
    "> Core.rq_inventory_export is a collection of function wrappers around the Discogs API for inventory exports."
   ]
  },
  {
   "cell_type": "code",
   "execution_count": null,
   "metadata": {},
   "outputs": [],
   "source": [
    "#export\n",
    "import requests\n",
    "from typing import Union\n",
    "from discogspy.core import *"
   ]
  },
  {
   "cell_type": "code",
   "execution_count": null,
   "metadata": {},
   "outputs": [],
   "source": [
    "#export\n",
    "\n",
    "\n",
    "def request_inventory_export(user: UserWithUserTokenBasedAuthentication\n",
    "                             ) -> requests.models.Response:\n",
    "    \"\"\"\n",
    "    Request an csv export for the given inventory.\n",
    "    \n",
    "    User Authentication needed. \n",
    "    \n",
    "    Parameters:\n",
    "    \n",
    "    user: user object (required)\n",
    "    \"\"\"\n",
    "    url = f\"{INVENTORY_EXPORT_URL}\"\n",
    "    headers = user.headers\n",
    "    params = user.params\n",
    "\n",
    "    return requests.post(url, headers=headers, params=params)"
   ]
  },
  {
   "cell_type": "code",
   "execution_count": null,
   "metadata": {},
   "outputs": [
    {
     "data": {
      "text/plain": [
       "<Response [200]>"
      ]
     },
     "execution_count": null,
     "metadata": {},
     "output_type": "execute_result"
    }
   ],
   "source": [
    "# Example for usage of request_inventory_export\n",
    "request_inventory_export(user=example_user)\n"
   ]
  },
  {
   "cell_type": "code",
   "execution_count": null,
   "metadata": {},
   "outputs": [],
   "source": [
    "#hide\n",
    "\n",
    "@responses.activate\n",
    "def test_request_inventory_export___authentication_user_token():\n",
    "    test_user = UserWithUserTokenBasedAuthentication(user_token=\"test_user_token\",\n",
    "                                                     user_agent=\"test_user_agent\")\n",
    "\n",
    "    target_url = f\"{INVENTORY_EXPORT_URL}?token=test_user_token\"\n",
    "    \n",
    "    result_content = {\"TestExport\": \"TestContent\"}\n",
    "    \n",
    "    responses.add(responses.POST, target_url,\n",
    "                  json=result_content, status=200)\n",
    "\n",
    "    resp = request_inventory_export(user=test_user) \n",
    "\n",
    "    assert resp.json() == result_content\n",
    "    assert len(responses.calls) == 1\n",
    "    assert responses.calls[0].request.url == target_url\n",
    "    \n",
    "test_request_inventory_export___authentication_user_token()"
   ]
  },
  {
   "cell_type": "code",
   "execution_count": null,
   "metadata": {},
   "outputs": [],
   "source": [
    "#export\n",
    "\n",
    "\n",
    "def get_recent_inventory_exports(user: UserWithUserTokenBasedAuthentication,\n",
    "                                 page: Union[int, None] = None,\n",
    "                                 per_page: Union[int, None] = None\n",
    "                                 ) -> requests.models.Response:\n",
    "    \"\"\" \n",
    "    Get a list of all recent exports for the given inventory. \n",
    "    \n",
    "    User Authentication needed. \n",
    "    \n",
    "    Parameters:\n",
    "    \n",
    "    user: user object (required)\n",
    "    \n",
    "    page: number (optional) \n",
    "        -> The page you want to request.\n",
    "        \n",
    "    per_page: number (optional)\n",
    "        -> The number of items per page.\n",
    "    \"\"\"\n",
    "    url = f\"{INVENTORY_EXPORT_URL}\"\n",
    "    headers = user.headers\n",
    "    params = user.params\n",
    "\n",
    "    if page:\n",
    "        params[\"page\"] = max(1, page)\n",
    "    if per_page:\n",
    "        params[\"per_page\"] = max(1, per_page)\n",
    "\n",
    "    return requests.get(url, headers=headers, params=params)"
   ]
  },
  {
   "cell_type": "code",
   "execution_count": null,
   "metadata": {},
   "outputs": [
    {
     "data": {
      "text/plain": [
       "<Response [200]>"
      ]
     },
     "execution_count": null,
     "metadata": {},
     "output_type": "execute_result"
    }
   ],
   "source": [
    "# Example for usage of get_recent_inventory_exports\n",
    "get_recent_inventory_exports(user=example_user, \n",
    "                             page=1, \n",
    "                             per_page=3)"
   ]
  },
  {
   "cell_type": "code",
   "execution_count": null,
   "metadata": {},
   "outputs": [],
   "source": [
    "#hide\n",
    "\n",
    "@responses.activate\n",
    "def test_get_recent_inventory_exports___authentication_user_token():\n",
    "    test_user = UserWithUserTokenBasedAuthentication(user_token=\"test_user_token\",\n",
    "                                                     user_agent=\"test_user_agent\")\n",
    "\n",
    "    target_url = f\"{INVENTORY_EXPORT_URL}?token=test_user_token&page=1&per_page=3\"\n",
    "    \n",
    "    result_content = {\"TestExport\": \"TestContent\"}\n",
    "    \n",
    "    responses.add(responses.GET, target_url,\n",
    "                  json=result_content, status=200)\n",
    "\n",
    "    resp = get_recent_inventory_exports(user=test_user, page=1, per_page=3) \n",
    "\n",
    "    assert resp.json() == result_content\n",
    "    assert len(responses.calls) == 1\n",
    "    assert responses.calls[0].request.url == target_url\n",
    "    \n",
    "test_get_recent_inventory_exports___authentication_user_token()"
   ]
  },
  {
   "cell_type": "code",
   "execution_count": null,
   "metadata": {},
   "outputs": [],
   "source": [
    "#export\n",
    "\n",
    "\n",
    "def get_inventory_export_details(user: UserWithUserTokenBasedAuthentication,\n",
    "                                 export_id: int\n",
    "                                 ) -> requests.models.Response:\n",
    "    \"\"\"\n",
    "    Get details about the status of the given inventory export.\n",
    "    \n",
    "    User Authentication needed. \n",
    "    \n",
    "    Parameters:\n",
    "    \n",
    "    user: user object (required)\n",
    "    \n",
    "    export_id: number (required) \n",
    "        -> Id of the export.\n",
    "    \"\"\"\n",
    "    url = f\"{INVENTORY_EXPORT_URL}/{export_id}\"\n",
    "    headers = user.headers\n",
    "    params = user.params\n",
    "\n",
    "    return requests.get(url, headers=headers, params=params)"
   ]
  },
  {
   "cell_type": "code",
   "execution_count": null,
   "metadata": {},
   "outputs": [
    {
     "data": {
      "text/plain": [
       "<Response [200]>"
      ]
     },
     "execution_count": null,
     "metadata": {},
     "output_type": "execute_result"
    }
   ],
   "source": [
    "# Example for usage of get_inventory_export_details\n",
    "get_inventory_export_details(user=example_user, \n",
    "                             export_id=838414)\n"
   ]
  },
  {
   "cell_type": "code",
   "execution_count": null,
   "metadata": {},
   "outputs": [],
   "source": [
    "#hide\n",
    "\n",
    "@responses.activate\n",
    "def test_get_inventory_export_details___authentication_user_token():\n",
    "    test_user = UserWithUserTokenBasedAuthentication(user_token=\"test_user_token\",\n",
    "                                                     user_agent=\"test_user_agent\")\n",
    "\n",
    "    target_url = f\"{INVENTORY_EXPORT_URL}/123456?token=test_user_token\"\n",
    "    \n",
    "    result_content = {\"TestExport\": \"TestContent\"}\n",
    "    \n",
    "    responses.add(responses.GET, target_url,\n",
    "                  json=result_content, status=200)\n",
    "\n",
    "    resp = get_inventory_export_details(user=test_user, export_id=123456) \n",
    "\n",
    "    assert resp.json() == result_content\n",
    "    assert len(responses.calls) == 1\n",
    "    assert responses.calls[0].request.url == target_url\n",
    "    \n",
    "test_get_inventory_export_details___authentication_user_token()\n"
   ]
  },
  {
   "cell_type": "code",
   "execution_count": null,
   "metadata": {},
   "outputs": [],
   "source": [
    "#export\n",
    "\n",
    "\n",
    "def download_inventory_export(user: UserWithUserTokenBasedAuthentication,\n",
    "                              export_id: int\n",
    "                              ) -> requests.models.Response:\n",
    "    \"\"\"\n",
    "    Download an existing inventory export.\n",
    "    The response will be a zipped csv file.\n",
    "    \n",
    "    User Authentication needed. \n",
    "    \n",
    "    Parameters:\n",
    "    \n",
    "    user: user object (required)\n",
    "    \n",
    "    export_id: number (required) \n",
    "        -> Id of the export.\n",
    "    \"\"\"\n",
    "    url = f\"{INVENTORY_EXPORT_URL}/{export_id}/download\"\n",
    "    headers = user.headers\n",
    "    params = user.params\n",
    "    \n",
    "    return requests.get(url, headers=headers, params=params)"
   ]
  },
  {
   "cell_type": "code",
   "execution_count": null,
   "metadata": {},
   "outputs": [
    {
     "data": {
      "text/plain": [
       "<Response [200]>"
      ]
     },
     "execution_count": null,
     "metadata": {},
     "output_type": "execute_result"
    }
   ],
   "source": [
    "# Example for usage of download_inventory_export\n",
    "download_inventory_export(user=example_user, export_id=838414)"
   ]
  },
  {
   "cell_type": "code",
   "execution_count": null,
   "metadata": {},
   "outputs": [],
   "source": [
    "#hide\n",
    "\n",
    "@responses.activate\n",
    "def test_download_inventory_export___authentication_user_token():\n",
    "    test_user = UserWithUserTokenBasedAuthentication(user_token=\"test_user_token\",\n",
    "                                                     user_agent=\"test_user_agent\")\n",
    "\n",
    "    target_url = f\"{INVENTORY_EXPORT_URL}/123456/download?token=test_user_token\"\n",
    "    \n",
    "    result_content = {\"TestExport\": \"TestContent\"}\n",
    "    \n",
    "    responses.add(responses.GET, target_url,\n",
    "                  json=result_content, status=200)\n",
    "\n",
    "    resp = download_inventory_export(user=test_user, export_id=123456) \n",
    "\n",
    "    assert resp.json() == result_content\n",
    "    assert len(responses.calls) == 1\n",
    "    assert responses.calls[0].request.url == target_url\n",
    "    \n",
    "test_download_inventory_export___authentication_user_token()"
   ]
  },
  {
   "cell_type": "code",
   "execution_count": null,
   "metadata": {},
   "outputs": [
    {
     "name": "stdout",
     "output_type": "stream",
     "text": [
      "Converted 00_core.constants.ipynb.\n",
      "Converted 01_core.discogs_user.ipynb.\n",
      "Converted 02_core.rq_database.ipynb.\n",
      "Converted 03_core.rq_marketplace.ipynb.\n",
      "Converted 04_core.rq_inventory_export.ipynb.\n",
      "Converted 05_core.rq_inventory_upload.ipynb.\n",
      "Converted 06_core.rq_collection.ipynb.\n",
      "Converted 07_core.rq_wantlist.ipynb.\n",
      "Converted index.ipynb.\n"
     ]
    }
   ],
   "source": [
    "#hide\n",
    "\n",
    "from nbdev.export import *\n",
    "notebook2script()"
   ]
  }
 ],
 "metadata": {
  "kernelspec": {
   "display_name": "Python 3",
   "language": "python",
   "name": "python3"
  }
 },
 "nbformat": 4,
 "nbformat_minor": 2
}
