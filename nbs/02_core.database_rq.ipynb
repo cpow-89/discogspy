{
 "cells": [
  {
   "cell_type": "code",
   "execution_count": null,
   "metadata": {},
   "outputs": [],
   "source": [
    "# default_exp core.database_rq"
   ]
  },
  {
   "cell_type": "code",
   "execution_count": null,
   "metadata": {},
   "outputs": [],
   "source": [
    "#hide\n",
    "%reload_ext autoreload\n",
    "%autoreload 2"
   ]
  },
  {
   "cell_type": "code",
   "execution_count": null,
   "metadata": {},
   "outputs": [],
   "source": [
    "#hide\n",
    "from nbdev.showdoc import *\n",
    "import json\n",
    "import responses\n",
    "from pathlib import Path\n",
    "from discogspy.core import *"
   ]
  },
  {
   "cell_type": "code",
   "execution_count": null,
   "metadata": {},
   "outputs": [],
   "source": [
    "#hide\n",
    "with open(Path(\"../config/example_user_info.json\"), \"r\") as user_config_file:\n",
    "    config = json.load(user_config_file)\n",
    "    user = UserWithUserTokenBasedAuthentication(user_token=config[\"user_token\"],\n",
    "                                                user_agent=config[\"user_agent\"])"
   ]
  },
  {
   "cell_type": "markdown",
   "metadata": {},
   "source": [
    "# Core Database Requests\n",
    "\n",
    "> function wrapper around the discogs api for database interactions"
   ]
  },
  {
   "cell_type": "code",
   "execution_count": null,
   "metadata": {},
   "outputs": [],
   "source": [
    "#export\n",
    "import requests\n",
    "from typing import Union\n",
    "from discogspy.core import *"
   ]
  },
  {
   "cell_type": "code",
   "execution_count": null,
   "metadata": {},
   "outputs": [],
   "source": [
    "#export\n",
    "def get_release(user:UserWithUserTokenBasedAuthentication, \n",
    "                release_id:int, \n",
    "                curr_abbr=Union[str, None])->requests.models.Response:\n",
    "    \"\"\"\n",
    "    Get information to a particular release from discogs database.\n",
    "    A release represents a particular physical or digital object released by \n",
    "    one or more Artists.\n",
    "    \n",
    "    No user Authentication needed.\n",
    "    \"\"\"\n",
    "    url = f\"{RELEASES_URL}/{release_id}\"\n",
    "    headers = user.headers\n",
    "    params = {\"token\": user.user_token} \n",
    "    if curr_abbr and curr_abbr in VALID_CURR_ABBR: \n",
    "        params[\"curr_addr\"] = curr_abbr\n",
    "    return requests.get(url, headers=headers, params=params)"
   ]
  },
  {
   "cell_type": "code",
   "execution_count": null,
   "metadata": {},
   "outputs": [
    {
     "data": {
      "text/plain": "<Response [200]>"
     },
     "execution_count": null,
     "metadata": {},
     "output_type": "execute_result"
    }
   ],
   "source": [
    "# Example for usage of get_releases\n",
    "get_release(user=user, release_id=6067651, curr_abbr=\"EUR\")"
   ]
  },
  {
   "cell_type": "code",
   "execution_count": null,
   "metadata": {},
   "outputs": [],
   "source": [
    "#hide \n",
    "@responses.activate\n",
    "def test_get_release():\n",
    "    test_user = UserWithUserTokenBasedAuthentication(user_token=\"test_user_token\",\n",
    "                                                     user_agent=\"test_user_agent\")\n",
    "\n",
    "    target_url = f\"{RELEASES_URL}/123456?token=test_user_token&curr_addr=EUR\"\n",
    "    test_content = {\"TestRelease\": \"TestContent\"}\n",
    "    \n",
    "    responses.add(responses.GET, target_url,\n",
    "                  json=test_content, status=200)\n",
    "\n",
    "    resp = get_release(user=test_user, release_id=123456, curr_abbr=\"EUR\")\n",
    "\n",
    "    assert resp.json() == test_content\n",
    "    assert len(responses.calls) == 1\n",
    "    assert responses.calls[0].request.url == target_url\n",
    "\n",
    "test_get_release()"
   ]
  },
  {
   "cell_type": "code",
   "execution_count": null,
   "metadata": {},
   "outputs": [],
   "source": [
    "#export\n",
    "def get_release_rating_by_user(user:UserWithUserTokenBasedAuthentication, \n",
    "                               release_id:int, \n",
    "                               username=str)->requests.models.Response:\n",
    "    \"\"\"\n",
    "    Get the rating of a release for a given user.\n",
    "    \n",
    "    No user Authentication needed. \n",
    "    \"\"\"\n",
    "    url = f\"{RELEASES_URL}/{release_id}/rating/{username}\"\n",
    "    headers = user.headers\n",
    "    params = {\"token\": user.user_token} \n",
    "    return requests.get(url, headers=headers, params=params)"
   ]
  },
  {
   "cell_type": "code",
   "execution_count": null,
   "metadata": {},
   "outputs": [
    {
     "data": {
      "text/plain": "<Response [200]>"
     },
     "execution_count": null,
     "metadata": {},
     "output_type": "execute_result"
    }
   ],
   "source": [
    "# Example for usage of get_release_rating_by_user\n",
    "get_release_rating_by_user(user=user, release_id=9453891, username=\"darkwolf\")\n"
   ]
  },
  {
   "cell_type": "code",
   "execution_count": null,
   "metadata": {},
   "outputs": [],
   "source": [
    "#hide \n",
    "@responses.activate\n",
    "def test_release_rating_by_user():\n",
    "    test_user = UserWithUserTokenBasedAuthentication(user_token=\"test_user_token\",\n",
    "                                                     user_agent=\"test_user_agent\")\n",
    "    target_url = f\"{RELEASES_URL}/123456/rating/test_user_name?token=test_user_token\"\n",
    "    test_content = {\"username\": \"test_user_name\", \"rating\": 5, \"release_id\": 123456}\n",
    "    \n",
    "    responses.add(responses.GET, target_url,\n",
    "                  json=test_content, status=200)\n",
    "\n",
    "    resp = get_release_rating_by_user(user=test_user, release_id=123456, username=\"test_user_name\")\n",
    "\n",
    "    assert resp.json() == test_content\n",
    "    assert len(responses.calls) == 1\n",
    "    assert responses.calls[0].request.url == target_url\n",
    "\n",
    "test_release_rating_by_user()"
   ]
  },
  {
   "cell_type": "code",
   "execution_count": null,
   "metadata": {},
   "outputs": [],
   "source": [
    "#hide\n",
    "from nbdev.export import *\n",
    "notebook2script()"
   ]
  }
 ],
 "metadata": {
  "kernelspec": {
   "display_name": "Python 3",
   "language": "python",
   "name": "python3"
  }
 },
 "nbformat": 4,
 "nbformat_minor": 2
}
