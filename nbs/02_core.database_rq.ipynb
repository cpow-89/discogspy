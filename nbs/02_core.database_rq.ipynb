{
 "cells": [
  {
   "cell_type": "code",
   "execution_count": null,
   "metadata": {},
   "outputs": [],
   "source": [
    "# default_exp core.database_rq"
   ]
  },
  {
   "cell_type": "code",
   "execution_count": null,
   "metadata": {},
   "outputs": [],
   "source": [
    "#hide\n",
    "%reload_ext autoreload\n",
    "%autoreload 2"
   ]
  },
  {
   "cell_type": "code",
   "execution_count": null,
   "metadata": {},
   "outputs": [],
   "source": [
    "#hide\n",
    "from nbdev.showdoc import *\n",
    "import json\n",
    "import responses\n",
    "from pathlib import Path\n",
    "from discogspy.core import *"
   ]
  },
  {
   "cell_type": "code",
   "execution_count": null,
   "metadata": {},
   "outputs": [],
   "source": [
    "#hide\n",
    "with open(Path(\"../config/example_user_info.json\"), \"r\") as user_config_file:\n",
    "    config = json.load(user_config_file)\n",
    "    example_user = UserWithUserTokenBasedAuthentication(user_token=config[\"user_token\"],\n",
    "                                                        user_agent=config[\"user_agent\"])"
   ]
  },
  {
   "cell_type": "markdown",
   "metadata": {},
   "source": [
    "# Core Database Requests\n",
    "\n",
    "> function wrapper around the discogs api for database interactions"
   ]
  },
  {
   "cell_type": "code",
   "execution_count": null,
   "metadata": {},
   "outputs": [],
   "source": [
    "#export\n",
    "import requests\n",
    "from typing import Union\n",
    "from discogspy.core import *"
   ]
  },
  {
   "cell_type": "markdown",
   "metadata": {},
   "source": [
    "## Release"
   ]
  },
  {
   "cell_type": "code",
   "execution_count": null,
   "metadata": {},
   "outputs": [],
   "source": [
    "#export\n",
    "\n",
    "\n",
    "def get_release(user: Union[UserWithoutAuthentication,\n",
    "                            UserWithUserTokenBasedAuthentication], \n",
    "                release_id: int, \n",
    "                curr_abbr: Union[str, None]) -> requests.models.Response:\n",
    "    \"\"\"\n",
    "    Get information to a particular release from discogs database.\n",
    "    A release represents a particular physical or digital object released by \n",
    "    one or more Artists.\n",
    "    \n",
    "    No user Authentication needed.\n",
    "    \"\"\"\n",
    "    url = f\"{RELEASES_URL}/{release_id}\"\n",
    "    headers = user.headers\n",
    "    params = user.params\n",
    "    if curr_abbr and curr_abbr in VALID_CURR_ABBR: \n",
    "        params[\"curr_addr\"] = curr_abbr\n",
    "    return requests.get(url, headers=headers, params=params)"
   ]
  },
  {
   "cell_type": "code",
   "execution_count": null,
   "metadata": {},
   "outputs": [
    {
     "data": {
      "text/plain": [
       "<Response [200]>"
      ]
     },
     "execution_count": null,
     "metadata": {},
     "output_type": "execute_result"
    }
   ],
   "source": [
    "# Example for usage of get_releases\n",
    "get_release(user=example_user, release_id=6067651, curr_abbr=\"EUR\")"
   ]
  },
  {
   "cell_type": "code",
   "execution_count": null,
   "metadata": {},
   "outputs": [],
   "source": [
    "#hide \n",
    "\n",
    "@responses.activate\n",
    "def test_get_release____authentication_none():\n",
    "    test_user = UserWithoutAuthentication()\n",
    "    target_url = f\"{RELEASES_URL}/123456?curr_addr=EUR\"\n",
    "    result_content = {\"TestRelease\": \"TestContent\"}\n",
    "    \n",
    "    responses.add(responses.GET, target_url,\n",
    "                  json=result_content, status=200)\n",
    "\n",
    "    resp = get_release(user=test_user, release_id=123456, curr_abbr=\"EUR\")\n",
    "\n",
    "    assert resp.json() == result_content\n",
    "    assert len(responses.calls) == 1\n",
    "    assert responses.calls[0].request.url == target_url\n",
    "\n",
    "test_get_release____authentication_none()\n",
    "\n",
    "@responses.activate\n",
    "def test_get_release___authentication_user_token():\n",
    "    test_user = UserWithUserTokenBasedAuthentication(user_token=\"test_user_token\",\n",
    "                                                     user_agent=\"test_user_agent\")\n",
    "\n",
    "    target_url = f\"{RELEASES_URL}/123456?token=test_user_token&curr_addr=EUR\"\n",
    "    result_content = {\"TestRelease\": \"TestContent\"}\n",
    "    \n",
    "    responses.add(responses.GET, target_url,\n",
    "                  json=result_content, status=200)\n",
    "\n",
    "    resp = get_release(user=test_user, release_id=123456, curr_abbr=\"EUR\")\n",
    "\n",
    "    assert resp.json() == result_content\n",
    "    assert len(responses.calls) == 1\n",
    "    assert responses.calls[0].request.url == target_url\n",
    "\n",
    "test_get_release___authentication_user_token()"
   ]
  },
  {
   "cell_type": "markdown",
   "metadata": {},
   "source": [
    "### Release Rating"
   ]
  },
  {
   "cell_type": "code",
   "execution_count": null,
   "metadata": {},
   "outputs": [],
   "source": [
    "#export\n",
    "\n",
    "\n",
    "def get_release_rating_by_user(user: Union[UserWithoutAuthentication,\n",
    "                                           UserWithUserTokenBasedAuthentication], \n",
    "                               release_id: int, \n",
    "                               username: str) -> requests.models.Response:\n",
    "    \"\"\"\n",
    "    Get the rating of a release made by a given user.\n",
    "    \n",
    "    No user Authentication needed. \n",
    "    \"\"\"\n",
    "    url = f\"{RELEASES_URL}/{release_id}/rating/{username}\"\n",
    "    headers = user.headers\n",
    "    params = user.params\n",
    "    return requests.get(url, headers=headers, params=params)"
   ]
  },
  {
   "cell_type": "code",
   "execution_count": null,
   "metadata": {},
   "outputs": [
    {
     "data": {
      "text/plain": [
       "<Response [200]>"
      ]
     },
     "execution_count": null,
     "metadata": {},
     "output_type": "execute_result"
    }
   ],
   "source": [
    "# Example for usage of get_release_rating_by_user\n",
    "get_release_rating_by_user(user=example_user, release_id=9453891, username=\"darkwolf\")\n"
   ]
  },
  {
   "cell_type": "code",
   "execution_count": null,
   "metadata": {},
   "outputs": [],
   "source": [
    "#hide \n",
    "\n",
    "@responses.activate\n",
    "def test_get_release_rating_by_user____authentication_none():\n",
    "    test_user = UserWithoutAuthentication()\n",
    "    target_url = f\"{RELEASES_URL}/123456/rating/test_user_name\"\n",
    "    result_content = {\"username\": \"test_user_name\", \"rating\": 5, \"release_id\": 123456}\n",
    "    \n",
    "    responses.add(responses.GET, target_url,\n",
    "                  json=result_content, status=200)\n",
    "\n",
    "    resp = get_release_rating_by_user(user=test_user, release_id=123456, username=\"test_user_name\")\n",
    "\n",
    "    assert resp.json() == result_content\n",
    "    assert len(responses.calls) == 1\n",
    "    assert responses.calls[0].request.url == target_url\n",
    "\n",
    "test_get_release_rating_by_user____authentication_none()\n",
    "\n",
    "@responses.activate\n",
    "def test_get_release_rating_by_user___authentication_user_token():\n",
    "    test_user = UserWithUserTokenBasedAuthentication(user_token=\"test_user_token\",\n",
    "                                                     user_agent=\"test_user_agent\")\n",
    "    target_url = f\"{RELEASES_URL}/123456/rating/test_user_name?token=test_user_token\"\n",
    "    result_content = {\"username\": \"test_user_name\", \"rating\": 5, \"release_id\": 123456}\n",
    "    \n",
    "    responses.add(responses.GET, target_url,\n",
    "                  json=result_content, status=200)\n",
    "\n",
    "    resp = get_release_rating_by_user(user=test_user, release_id=123456, username=\"test_user_name\")\n",
    "\n",
    "    assert resp.json() == result_content\n",
    "    assert len(responses.calls) == 1\n",
    "    assert responses.calls[0].request.url == target_url\n",
    "\n",
    "test_get_release_rating_by_user___authentication_user_token()"
   ]
  },
  {
   "cell_type": "code",
   "execution_count": null,
   "metadata": {},
   "outputs": [],
   "source": [
    "# export\n",
    "\n",
    "\n",
    "def update_release_rating_for_given_user(user: UserWithUserTokenBasedAuthentication, \n",
    "                                         release_id: int, \n",
    "                                         username: str,\n",
    "                                         rating: int) -> requests.models.Response:\n",
    "    \"\"\"\n",
    "    Update the rating of a release made by a given user.\n",
    "    If there is no rating, it will create one.\n",
    "    \n",
    "    User Authentication needed. \n",
    "    \"\"\"\n",
    "    url = f\"{RELEASES_URL}/{release_id}/rating/{username}\"\n",
    "    headers = user.headers\n",
    "    params = user.params\n",
    "    rating = min(max(0, rating), 5)\n",
    "    data = {\"rating\": rating}\n",
    "    return requests.put(url, headers=headers, params=params, json=data)"
   ]
  },
  {
   "cell_type": "code",
   "execution_count": null,
   "metadata": {},
   "outputs": [
    {
     "data": {
      "text/plain": [
       "<Response [201]>"
      ]
     },
     "execution_count": null,
     "metadata": {},
     "output_type": "execute_result"
    }
   ],
   "source": [
    "# Example for usage of update_release_rating_for_given_user\n",
    "\n",
    "update_release_rating_for_given_user(example_user, release_id=11690093, \n",
    "                                     username=\"derneueweg-label\", rating=5)"
   ]
  },
  {
   "cell_type": "code",
   "execution_count": null,
   "metadata": {},
   "outputs": [],
   "source": [
    "#hide\n",
    "@responses.activate\n",
    "def update_release_rating_for_given_user___authentication_user_token():\n",
    "    test_user = UserWithUserTokenBasedAuthentication(user_token=\"test_user_token\",\n",
    "                                                     user_agent=\"test_user_agent\")\n",
    "\n",
    "    target_url = f\"{RELEASES_URL}/123456/rating/test_user_name?token=test_user_token\"\n",
    "    result_content = {\"username\": \"test_user_name\", \"rating\": 5, \"release_id\": 123456}\n",
    "    \n",
    "    responses.add(responses.PUT, target_url,\n",
    "                  json=result_content, status=201)\n",
    "\n",
    "    resp = update_release_rating_for_given_user(test_user, release_id=123456, \n",
    "                                                username=\"test_user_name\", rating=5)\n",
    "   \n",
    "    assert resp.json() == result_content\n",
    "    assert len(responses.calls) == 1\n",
    "    assert responses.calls[0].request.url == target_url\n",
    "\n",
    "update_release_rating_for_given_user___authentication_user_token()\n",
    "\n",
    "@responses.activate\n",
    "def update_release_rating_for_given_user_with_rating_higher_5___authentication_user_token():\n",
    "    test_user = UserWithUserTokenBasedAuthentication(user_token=\"test_user_token\",\n",
    "                                                     user_agent=\"test_user_agent\")\n",
    "\n",
    "    target_url = f\"{RELEASES_URL}/123456/rating/test_user_name?token=test_user_token\"\n",
    "    result_content = {\"username\": \"test_user_name\", \"rating\": 5, \"release_id\": 123456}\n",
    "    \n",
    "    responses.add(responses.PUT, target_url,\n",
    "                  json=result_content, status=201)\n",
    "\n",
    "    resp = update_release_rating_for_given_user(test_user, release_id=123456, \n",
    "                                                username=\"test_user_name\", rating=6)\n",
    "   \n",
    "    assert resp.json() == result_content\n",
    "    assert len(responses.calls) == 1\n",
    "    assert responses.calls[0].request.url == target_url\n",
    "\n",
    "update_release_rating_for_given_user_with_rating_higher_5___authentication_user_token()\n",
    "\n",
    "@responses.activate\n",
    "def update_release_rating_for_given_user_with_rating_lower_0___authentication_user_token():\n",
    "    test_user = UserWithUserTokenBasedAuthentication(user_token=\"test_user_token\",\n",
    "                                                     user_agent=\"test_user_agent\")\n",
    "\n",
    "    target_url = f\"{RELEASES_URL}/123456/rating/test_user_name?token=test_user_token\"\n",
    "    result_content = {\"username\": \"test_user_name\", \"rating\": 5, \"release_id\": 123456}\n",
    "    \n",
    "    responses.add(responses.PUT, target_url,\n",
    "                  json=result_content, status=201)\n",
    "\n",
    "    resp = update_release_rating_for_given_user(test_user, release_id=123456, \n",
    "                                                username=\"test_user_name\", rating=-5)\n",
    "   \n",
    "    assert resp.json() == result_content\n",
    "    assert len(responses.calls) == 1\n",
    "    assert responses.calls[0].request.url == target_url\n",
    "\n",
    "update_release_rating_for_given_user_with_rating_lower_0___authentication_user_token()"
   ]
  },
  {
   "cell_type": "code",
   "execution_count": null,
   "metadata": {},
   "outputs": [],
   "source": [
    "# export\n",
    "\n",
    "\n",
    "def delete_release_rating_by_user(user: UserWithUserTokenBasedAuthentication, \n",
    "                                  release_id: int, \n",
    "                                  username: str) -> requests.models.Response:\n",
    "    \"\"\"\n",
    "    Delete the rating of a release made by a given user.\n",
    "    \n",
    "    User Authentication needed. \n",
    "    \"\"\"\n",
    "    url = f\"{RELEASES_URL}/{release_id}/rating/{username}\"\n",
    "    headers = user.headers\n",
    "    params = user.params\n",
    "    return requests.delete(url, headers=headers, params=params)"
   ]
  },
  {
   "cell_type": "code",
   "execution_count": null,
   "metadata": {},
   "outputs": [
    {
     "data": {
      "text/plain": [
       "<Response [204]>"
      ]
     },
     "execution_count": null,
     "metadata": {},
     "output_type": "execute_result"
    }
   ],
   "source": [
    "# Example for usage of delete_release_rating_by_user\n",
    "\n",
    "delete_release_rating_by_user(example_user, release_id=11690093, username=\"derneueweg-label\")"
   ]
  },
  {
   "cell_type": "code",
   "execution_count": null,
   "metadata": {},
   "outputs": [],
   "source": [
    "#hide\n",
    "\n",
    "@responses.activate\n",
    "def test_delete_release_rating_by_user___authentication_user_token():\n",
    "    test_user = UserWithUserTokenBasedAuthentication(user_token=\"test_user_token\",\n",
    "                                                     user_agent=\"test_user_agent\")\n",
    "    target_url = f\"{RELEASES_URL}/123456/rating/test_user_name?token=test_user_token\"\n",
    "    result_content = {}\n",
    "    \n",
    "    responses.add(responses.DELETE, target_url,\n",
    "                  json=result_content, status=204)\n",
    "\n",
    "    resp = delete_release_rating_by_user(user=test_user, release_id=123456, username=\"test_user_name\")\n",
    "\n",
    "    assert resp.json() == result_content\n",
    "    assert len(responses.calls) == 1\n",
    "    assert responses.calls[0].request.url == target_url\n",
    "\n",
    "test_delete_release_rating_by_user___authentication_user_token()"
   ]
  },
  {
   "cell_type": "code",
   "execution_count": null,
   "metadata": {},
   "outputs": [],
   "source": [
    "# export\n",
    "\n",
    "\n",
    "def get_release_rating_by_community(user: Union[UserWithoutAuthentication,\n",
    "                                                UserWithUserTokenBasedAuthentication], \n",
    "                                    release_id: int) -> requests.models.Response:\n",
    "    \"\"\"\n",
    "    Get the rating of a release made by the community.\n",
    "    A community release rating includes the average rating and \n",
    "    the total number of user ratings for a given release.\n",
    "    \n",
    "    This function doesn't work for master releases!\n",
    "    \n",
    "    No user Authentication needed. \n",
    "    \"\"\"\n",
    "    url = f\"{RELEASES_URL}/{release_id}/rating\"\n",
    "    headers = user.headers\n",
    "    params = user.params\n",
    "    return requests.get(url, headers=headers, params=params)"
   ]
  },
  {
   "cell_type": "code",
   "execution_count": null,
   "metadata": {},
   "outputs": [
    {
     "data": {
      "text/plain": [
       "<Response [200]>"
      ]
     },
     "execution_count": null,
     "metadata": {},
     "output_type": "execute_result"
    }
   ],
   "source": [
    "# Example for usage of delete_release_rating_by_user\n",
    "\n",
    "get_release_rating_by_community(example_user, release_id=1995816)"
   ]
  },
  {
   "cell_type": "code",
   "execution_count": null,
   "metadata": {},
   "outputs": [],
   "source": [
    "#hide\n",
    "\n",
    "@responses.activate\n",
    "def test_get_release_rating_by_community___authentication_none():\n",
    "    test_user = UserWithoutAuthentication()\n",
    "    target_url = f\"{RELEASES_URL}/123456/rating\"\n",
    "    result_content = {\"rating\": {\"count\": 19, \"average\": 4.89}, \"release_id\": 1995816}\n",
    "    \n",
    "    responses.add(responses.GET, target_url,\n",
    "                  json=result_content, status=200)\n",
    "\n",
    "    resp = get_release_rating_by_community(user=test_user, release_id=123456)\n",
    "\n",
    "    assert resp.json() == result_content\n",
    "    assert len(responses.calls) == 1\n",
    "    assert responses.calls[0].request.url == target_url\n",
    "\n",
    "test_get_release_rating_by_community___authentication_none()\n",
    "\n",
    "@responses.activate\n",
    "def test_get_release_rating_by_community___authentication_user_token():\n",
    "\n",
    "    test_user = UserWithUserTokenBasedAuthentication(user_token=\"test_user_token\",\n",
    "                                                     user_agent=\"test_user_agent\")\n",
    "    target_url = f\"{RELEASES_URL}/123456/rating?token=test_user_token\"\n",
    "    result_content = {\"rating\": {\"count\": 19, \"average\": 4.89}, \"release_id\": 1995816}\n",
    "    \n",
    "    responses.add(responses.GET, target_url,\n",
    "                  json=result_content, status=200)\n",
    "\n",
    "    resp = get_release_rating_by_community(user=test_user, release_id=123456)\n",
    "\n",
    "    assert resp.json() == result_content\n",
    "    assert len(responses.calls) == 1\n",
    "    assert responses.calls[0].request.url == target_url\n",
    "\n",
    "test_get_release_rating_by_community___authentication_user_token()"
   ]
  },
  {
   "cell_type": "markdown",
   "metadata": {},
   "source": [
    "### Master Release"
   ]
  },
  {
   "cell_type": "code",
   "execution_count": null,
   "metadata": {},
   "outputs": [],
   "source": [
    "#export\n",
    "\n",
    "\n",
    "def get_master_release(user: Union[UserWithoutAuthentication,\n",
    "                                   UserWithUserTokenBasedAuthentication], \n",
    "                       master_id: int) -> requests.models.Response:\n",
    "    \"\"\"\n",
    "    Get information to a particular master release from discogs database.\n",
    "    A Master release represents a set of similar Releases. \n",
    "    Masters releases have a “main release” which is often the chronologically earliest.\n",
    "    \n",
    "    No user Authentication needed.\n",
    "    \"\"\"\n",
    "    url = f\"{MASTERS_URL}/{master_id}\"\n",
    "    headers = user.headers\n",
    "    params = user.params\n",
    "    return requests.get(url, headers=headers, params=params)"
   ]
  },
  {
   "cell_type": "code",
   "execution_count": null,
   "metadata": {},
   "outputs": [
    {
     "data": {
      "text/plain": [
       "<Response [200]>"
      ]
     },
     "execution_count": null,
     "metadata": {},
     "output_type": "execute_result"
    }
   ],
   "source": [
    "# Example for usage of get_master_release\n",
    "\n",
    "get_master_release(example_user, master_id=195663)"
   ]
  },
  {
   "cell_type": "code",
   "execution_count": null,
   "metadata": {},
   "outputs": [],
   "source": [
    "#hide\n",
    "\n",
    "@responses.activate\n",
    "def test_get_master_release___authentication_none():\n",
    "    test_user = UserWithoutAuthentication()\n",
    "    target_url = f\"{MASTERS_URL}/123456\"\n",
    "    result_content = {\"TestMaster\": \"TestContent\"}\n",
    "    \n",
    "    responses.add(responses.GET, target_url,\n",
    "                  json=result_content, status=200)\n",
    "\n",
    "    resp = get_master_release(user=test_user, master_id=123456)\n",
    "\n",
    "    assert resp.json() == result_content\n",
    "    assert len(responses.calls) == 1\n",
    "    assert responses.calls[0].request.url == target_url\n",
    "\n",
    "test_get_master_release___authentication_none()\n",
    "\n",
    "@responses.activate\n",
    "def test_get_master_release___authentication_user_token():\n",
    "    test_user = UserWithUserTokenBasedAuthentication(user_token=\"test_user_token\",\n",
    "                                                     user_agent=\"test_user_agent\")\n",
    "    target_url = f\"{MASTERS_URL}/123456?token=test_user_token\"\n",
    "    result_content = {\"TestMaster\": \"TestContent\"}\n",
    "    \n",
    "    responses.add(responses.GET, target_url,\n",
    "                  json=result_content, status=200)\n",
    "\n",
    "    resp = get_master_release(user=test_user, master_id=123456)\n",
    "\n",
    "    assert resp.json() == result_content\n",
    "    assert len(responses.calls) == 1\n",
    "    assert responses.calls[0].request.url == target_url\n",
    "    \n",
    "test_get_master_release___authentication_user_token()"
   ]
  },
  {
   "cell_type": "code",
   "execution_count": null,
   "metadata": {},
   "outputs": [],
   "source": [
    "#export\n",
    "\n",
    "\n",
    "def get_releases_related_to_master_release(user: Union[UserWithoutAuthentication,\n",
    "                                                       UserWithUserTokenBasedAuthentication], \n",
    "                                           master_id: int,\n",
    "                                           page: Union[int, None] = None,\n",
    "                                           per_page: Union[int, None] = None,\n",
    "                                           format: Union[str, None] = None,\n",
    "                                           label: Union[str, None] = None,\n",
    "                                           released: Union[str, None] = None, \n",
    "                                           country: Union[str, None] = None,\n",
    "                                           sort: Union[str, None] = None, \n",
    "                                           sort_order: Union[str, None] = None) -> requests.models.Response:\n",
    "    \"\"\"\n",
    "    Get a list of all Releases that are versions of a given master release.\n",
    "    \n",
    "    No user Authentication needed.\n",
    "    \"\"\"\n",
    "    url = f\"{MASTERS_URL}/{master_id}/versions\"\n",
    "    headers = user.headers\n",
    "    params = user.params\n",
    "    if page:\n",
    "        params[\"page\"] = max(1, page)\n",
    "    if per_page:\n",
    "        params[\"per_page\"] = max(1, per_page)\n",
    "    if format:\n",
    "        params[\"format\"] = format\n",
    "    if label:\n",
    "        params[\"label\"] = label\n",
    "    if released:\n",
    "        params[\"released\"] = released\n",
    "    if country:\n",
    "        params[\"country\"] = country\n",
    "    if sort and sort in VALID_SORT_OPTIONS:\n",
    "        params[\"sort\"] = sort\n",
    "    if sort_order and sort_order in VALID_SORT_ORDER:\n",
    "        params[\"sort_order\"] = sort_order\n",
    "    return requests.get(url, headers=headers, params=params)"
   ]
  },
  {
   "cell_type": "code",
   "execution_count": null,
   "metadata": {},
   "outputs": [
    {
     "data": {
      "text/plain": [
       "<Response [200]>"
      ]
     },
     "execution_count": null,
     "metadata": {},
     "output_type": "execute_result"
    }
   ],
   "source": [
    "# Example for usage of get_master_release\n",
    "\n",
    "get_releases_related_to_master_release(example_user, master_id=57960, \n",
    "                                       format=\"Cassette\", label=\"Roadrunner Records\")"
   ]
  },
  {
   "cell_type": "code",
   "execution_count": null,
   "metadata": {},
   "outputs": [],
   "source": [
    "#hide\n",
    "\n",
    "@responses.activate\n",
    "def test_get_releases_related_to_master_release___authentication_none():\n",
    "    test_user = UserWithoutAuthentication()\n",
    "    target_url = f\"{MASTERS_URL}/123456/versions?page=1&per_page=50&format=CD&label=label&\" \\\n",
    "                 f\"released=1989&country=country&sort=released&sort_order=asc\"\n",
    "    \n",
    "    result_content = {\"TestMaster\": \"TestContent\"}\n",
    "    \n",
    "    responses.add(responses.GET, target_url,\n",
    "                  json=result_content, status=200)\n",
    "\n",
    "    resp = get_releases_related_to_master_release(user=test_user, master_id=123456,\n",
    "                                                  page=1, per_page=50, format=\"CD\",\n",
    "                                                  label=\"label\", released=\"1989\",\n",
    "                                                  country=\"country\", sort=\"released\",\n",
    "                                                  sort_order=\"asc\")\n",
    "\n",
    "    assert resp.json() == result_content\n",
    "    assert len(responses.calls) == 1\n",
    "    assert responses.calls[0].request.url == target_url\n",
    "\n",
    "test_get_releases_related_to_master_release___authentication_none()\n",
    "\n",
    "@responses.activate\n",
    "def test_get_releases_related_to_master_release___authentication_user_token():\n",
    "    test_user = UserWithUserTokenBasedAuthentication(user_token=\"test_user_token\",\n",
    "                                                     user_agent=\"test_user_agent\")\n",
    "\n",
    "    target_url = f\"{MASTERS_URL}/123456/versions?token=test_user_token&page=1&per_page=50&\" \\\n",
    "                 f\"format=CD&label=label&released=1989&country=country&sort=released&sort_order=asc\"\n",
    "    result_content = {\"TestMaster\": \"TestContent\"}\n",
    "    \n",
    "    responses.add(responses.GET, target_url,\n",
    "                  json=result_content, status=200)\n",
    "\n",
    "    resp = get_releases_related_to_master_release(user=test_user, master_id=123456,\n",
    "                                                  page=1, per_page=50, format=\"CD\",\n",
    "                                                  label=\"label\", released=\"1989\",\n",
    "                                                  country=\"country\", sort=\"released\",\n",
    "                                                  sort_order=\"asc\")\n",
    "\n",
    "    assert resp.json() == result_content\n",
    "    assert len(responses.calls) == 1\n",
    "    assert responses.calls[0].request.url == target_url\n",
    "    \n",
    "test_get_releases_related_to_master_release___authentication_user_token()"
   ]
  },
  {
   "cell_type": "code",
   "execution_count": null,
   "metadata": {},
   "outputs": [
    {
     "name": "stdout",
     "output_type": "stream",
     "text": [
      "Converted 00_core.constants.ipynb.\n",
      "Converted 01_core.discogs_user.ipynb.\n",
      "Converted 02_core.database_rq.ipynb.\n",
      "Converted index.ipynb.\n"
     ]
    }
   ],
   "source": [
    "#hide\n",
    "\n",
    "from nbdev.export import *\n",
    "notebook2script()"
   ]
  }
 ],
 "metadata": {
  "kernelspec": {
   "display_name": "Python 3",
   "language": "python",
   "name": "python3"
  }
 },
 "nbformat": 4,
 "nbformat_minor": 2
}
