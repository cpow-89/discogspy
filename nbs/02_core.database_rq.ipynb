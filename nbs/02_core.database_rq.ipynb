{
 "cells": [
  {
   "cell_type": "code",
   "execution_count": null,
   "metadata": {},
   "outputs": [],
   "source": [
    "# default_exp core.database_rq"
   ]
  },
  {
   "cell_type": "code",
   "execution_count": null,
   "metadata": {},
   "outputs": [],
   "source": [
    "#hide\n",
    "from nbdev.showdoc import *\n",
    "import json\n",
    "from pathlib import Path\n",
    "from pydiscogs.core import *"
   ]
  },
  {
   "cell_type": "code",
   "execution_count": null,
   "metadata": {},
   "outputs": [],
   "source": [
    "#hide\n",
    "with open(Path(\"../config/example_user_info.json\"), \"r\") as user_config_file:\n",
    "    config = json.load(user_config_file)\n",
    "    user = UserWithUserTokenBasedAuthentication(user_token=config[\"user_token\"],\n",
    "                                                user_agent=config[\"user_agent\"])"
   ]
  },
  {
   "cell_type": "markdown",
   "metadata": {},
   "source": [
    "# Core Database Requests\n",
    "\n",
    "> function wrapper around the discogs api for database interactions"
   ]
  },
  {
   "cell_type": "code",
   "execution_count": null,
   "metadata": {},
   "outputs": [],
   "source": [
    "#export\n",
    "import requests\n",
    "from typing import Union\n",
    "from pydiscogs.core import *"
   ]
  },
  {
   "cell_type": "code",
   "execution_count": null,
   "metadata": {},
   "outputs": [],
   "source": [
    "#export\n",
    "def get_release(user:UserWithUserTokenBasedAuthentication, \n",
    "                release_id:int, \n",
    "                curr_abbr=Union[str, None])->requests.models.Response:\n",
    "    \"\"\"Get information to a particular release from discogs database.\n",
    "       A release represents a particular physical or digital object released by \n",
    "       one or more Artists.\"\"\"\n",
    "    url = f\"{BASE_URL}/releases/{release_id}\"\n",
    "    headers = user.headers\n",
    "    params = {\"token\": user.user_token} \n",
    "    if curr_abbr: \n",
    "        params[\"curr_addr\"] = curr_abbr\n",
    "    return requests.get(url, headers=headers, params=params)"
   ]
  },
  {
   "cell_type": "code",
   "execution_count": null,
   "metadata": {},
   "outputs": [
    {
     "data": {
      "text/plain": [
       "<Response [200]>"
      ]
     },
     "execution_count": null,
     "metadata": {},
     "output_type": "execute_result"
    }
   ],
   "source": [
    "# Example for usage of get_releases\n",
    "get_release(user=user, release_id=6067651, curr_abbr=\"EUR\")"
   ]
  },
  {
   "cell_type": "code",
   "execution_count": null,
   "metadata": {},
   "outputs": [
    {
     "name": "stdout",
     "output_type": "stream",
     "text": [
      "Converted 00_core.constants.ipynb.\n",
      "Converted 01_core.discogs_user.ipynb.\n",
      "Converted 02_core.database_rq.ipynb.\n",
      "Converted index.ipynb.\n"
     ]
    }
   ],
   "source": [
    "#hide\n",
    "from nbdev.export import *\n",
    "notebook2script()"
   ]
  }
 ],
 "metadata": {
  "kernelspec": {
   "display_name": "Python 3",
   "language": "python",
   "name": "python3"
  }
 },
 "nbformat": 4,
 "nbformat_minor": 2
}
