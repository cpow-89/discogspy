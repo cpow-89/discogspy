{
 "cells": [
  {
   "cell_type": "code",
   "execution_count": null,
   "metadata": {},
   "outputs": [],
   "source": [
    "# default_exp core.rq_wantlist"
   ]
  },
  {
   "cell_type": "code",
   "execution_count": null,
   "metadata": {},
   "outputs": [],
   "source": [
    "#hide\n",
    "%reload_ext autoreload\n",
    "%autoreload 2"
   ]
  },
  {
   "cell_type": "code",
   "execution_count": null,
   "metadata": {},
   "outputs": [],
   "source": [
    "#hide\n",
    "from nbdev.showdoc import *\n",
    "import json\n",
    "import responses\n",
    "from pathlib import Path\n",
    "from discogspy.core import *"
   ]
  },
  {
   "cell_type": "code",
   "execution_count": null,
   "metadata": {},
   "outputs": [],
   "source": [
    "#hide\n",
    "with open(Path(\"../config/example_user_info.json\"), \"r\") as user_config_file:\n",
    "    config = json.load(user_config_file)\n",
    "    example_user = UserWithUserTokenBasedAuthentication(user_token=config[\"user_token\"],\n",
    "                                                        user_agent=config[\"user_agent\"])"
   ]
  },
  {
   "cell_type": "markdown",
   "metadata": {},
   "source": [
    "# Core Wantlist Requests\n",
    "\n",
    "> Core.rq_wantlist is a collection of function wrappers around the Discogs api for getting user wantlist information."
   ]
  },
  {
   "cell_type": "code",
   "execution_count": null,
   "metadata": {},
   "outputs": [],
   "source": [
    "#export\n",
    "import requests\n",
    "from typing import Union\n",
    "from discogspy.core import *"
   ]
  },
  {
   "cell_type": "code",
   "execution_count": null,
   "metadata": {},
   "outputs": [],
   "source": [
    "#export\n",
    "\n",
    "\n",
    "def get_user_wantlist(user: Union[UserWithoutAuthentication,\n",
    "                                  UserWithUserTokenBasedAuthentication],\n",
    "                      username: str,\n",
    "                      page: Union[int, None] = None,\n",
    "                      per_page: Union[int, None] = None,\n",
    "                      ) -> requests.models.Response:\n",
    "    \"\"\"\n",
    "    Get a list of releases from the wantlist of a given user. \n",
    "    \n",
    "    Note: If the wantlist has been made private by its owner, \n",
    "          you must be authenticated as the owner to view it.\n",
    "    \n",
    "    No user Authentication needed. \n",
    "    \"\"\"\n",
    "    \n",
    "    url = f\"{USERS_URL}/{username}/wants\"\n",
    "    headers = user.headers\n",
    "    params = user.params\n",
    "    \n",
    "    if page:\n",
    "        params[\"page\"] = max(1, page)\n",
    "    if per_page:\n",
    "        params[\"per_page\"] = max(1, per_page)\n",
    "    \n",
    "    return requests.get(url, headers=headers, params=params)"
   ]
  },
  {
   "cell_type": "code",
   "execution_count": null,
   "metadata": {},
   "outputs": [],
   "source": [
    "# Example for usage of get_user_wantlist\n",
    "get_user_wantlist(user=example_user, username=\"discogspy\", page=1, per_page=3)"
   ]
  },
  {
   "cell_type": "code",
   "execution_count": null,
   "metadata": {},
   "outputs": [],
   "source": [
    "#hide\n",
    "\n",
    "@responses.activate\n",
    "def test_get_user_wantlist___authentication_none():\n",
    "    test_user = UserWithoutAuthentication()\n",
    "    \n",
    "    target_url = f\"{USERS_URL}/user_name/wants?page=1&per_page=3\"\n",
    "    \n",
    "    result_content = {\"TestWantlist\": \"TestContent\"}\n",
    "    \n",
    "    responses.add(responses.GET, target_url,\n",
    "                  json=result_content, status=200)\n",
    "\n",
    "    resp = get_user_wantlist(user=test_user, username=\"user_name\", page=1, per_page=3)\n",
    "\n",
    "    assert resp.json() == result_content\n",
    "    assert len(responses.calls) == 1\n",
    "    assert responses.calls[0].request.url == target_url\n",
    "\n",
    "test_get_user_wantlist___authentication_none()\n",
    "\n",
    "@responses.activate\n",
    "def test_get_user_wantlist___authentication_user_token():\n",
    "    test_user = UserWithUserTokenBasedAuthentication(user_token=\"test_user_token\",\n",
    "                                                     user_agent=\"test_user_agent\")\n",
    "\n",
    "    target_url = f\"{USERS_URL}/user_name/wants?token=test_user_token&page=1&per_page=3\"\n",
    "        \n",
    "    result_content = {\"TestWantlist\": \"TestContent\"}\n",
    "    \n",
    "    responses.add(responses.GET, target_url,\n",
    "                  json=result_content, status=200)\n",
    "\n",
    "    resp = get_user_wantlist(user=test_user, username=\"user_name\", page=1, per_page=3)\n",
    "\n",
    "    assert resp.json() == result_content\n",
    "    assert len(responses.calls) == 1\n",
    "    assert responses.calls[0].request.url == target_url\n",
    "    \n",
    "test_get_user_wantlist___authentication_user_token()"
   ]
  },
  {
   "cell_type": "code",
   "execution_count": null,
   "metadata": {},
   "outputs": [],
   "source": [
    "#hide\n",
    "\n",
    "from nbdev.export import *\n",
    "notebook2script()"
   ]
  }
 ],
 "metadata": {
  "kernelspec": {
   "display_name": "Python 3",
   "language": "python",
   "name": "python3"
  }
 },
 "nbformat": 4,
 "nbformat_minor": 2
}
