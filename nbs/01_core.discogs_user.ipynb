{
 "cells": [
  {
   "cell_type": "code",
   "execution_count": null,
   "metadata": {},
   "outputs": [],
   "source": [
    "# default_exp core.discogs_user"
   ]
  },
  {
   "cell_type": "code",
   "execution_count": null,
   "metadata": {},
   "outputs": [],
   "source": [
    "#hide\n",
    "%reload_ext autoreload\n",
    "%autoreload 2"
   ]
  },
  {
   "cell_type": "code",
   "execution_count": null,
   "metadata": {},
   "outputs": [],
   "source": [
    "#hide\n",
    "from nbdev.showdoc import *\n",
    "import json\n",
    "from pathlib import Path"
   ]
  },
  {
   "cell_type": "markdown",
   "metadata": {},
   "source": [
    "# Core User\n",
    "\n",
    "> Core.user is a collection of wrappers for information about a user."
   ]
  },
  {
   "cell_type": "markdown",
   "metadata": {},
   "source": [
    "## User\n",
    "\n",
    "A user object is a container that represents a discogspy user. It holds necessary information needed to communicate via the Discogs API."
   ]
  },
  {
   "cell_type": "code",
   "execution_count": null,
   "metadata": {},
   "outputs": [],
   "source": [
    "#export \n",
    "\n",
    "\n",
    "class UserWithoutAuthentication(object):\n",
    "    \"\"\"A wrapper for information about a user without authentication\"\"\"\n",
    "    def __init__(self):\n",
    "        self.headers = {\n",
    "            \"Accept\": \"json\",\n",
    "            \"Accept-Encoding\": \"gzip\"\n",
    "        }\n",
    "        self.params = {}"
   ]
  },
  {
   "cell_type": "code",
   "execution_count": null,
   "metadata": {},
   "outputs": [],
   "source": [
    "# Example UserWithoutAuthentication\n",
    "user_without_authentication = UserWithoutAuthentication()\n",
    "    "
   ]
  },
  {
   "cell_type": "code",
   "execution_count": null,
   "metadata": {},
   "outputs": [
    {
     "name": "stdout",
     "output_type": "stream",
     "text": [
      "Converted 00_core.constants.ipynb.\n",
      "Converted 01_core.discogs_user.ipynb.\n",
      "Converted 02_core.rq_database.ipynb.\n",
      "Converted 03_core.rq_marketplace.ipynb.\n",
      "Converted index.ipynb.\n"
     ]
    }
   ],
   "source": [
    "#export \n",
    "\n",
    "\n",
    "class UserWithUserTokenBasedAuthentication(object):\n",
    "    \"\"\"A wrapper for information about a user with user-token based authentication\"\"\"\n",
    "    def __init__(self, user_token, user_agent):\n",
    "        self.headers = {\n",
    "            \"Accept\": \"json\",\n",
    "            \"Accept-Encoding\": \"gzip\",\n",
    "            \"User-Agent\": user_agent\n",
    "        }\n",
    "        self.params = {\"token\": user_token}"
   ]
  }
 ],
 "metadata": {
  "kernelspec": {
   "display_name": "Python 3",
   "language": "python",
   "name": "python3"
  }
 },
 "nbformat": 4,
 "nbformat_minor": 2
}
