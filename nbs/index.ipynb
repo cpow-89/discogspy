{
 "cells": [
  {
   "cell_type": "code",
   "execution_count": null,
   "metadata": {},
   "outputs": [],
   "source": [
    "#hide\n",
    "from discogspy.core import *"
   ]
  },
  {
   "cell_type": "markdown",
   "metadata": {},
   "source": [
    "# Discogspy\n",
    "\n",
    "> Discogspy is an easy to use python wrapper around the discogs api."
   ]
  },
  {
   "cell_type": "markdown",
   "metadata": {},
   "source": [
    "Important: This package is under substantial development. See Road Map for more information."
   ]
  },
  {
   "cell_type": "markdown",
   "metadata": {},
   "source": [
    "## Install"
   ]
  },
  {
   "cell_type": "markdown",
   "metadata": {},
   "source": [
    "`pip install discogspy`\n"
   ]
  },
  {
   "cell_type": "markdown",
   "metadata": {},
   "source": [
    "## Road Map\n",
    "\n",
    "1. Create type save python wrapper around the discogs api\n",
    "    \n",
    "    a) Wrap database calls (done - except search request cause I personally dont have any usecase for it)<br>\n",
    "    b) Wrap marketplace calls<br>\n",
    "    c) Wrap inventory export calls<br>\n",
    "    d) Wrap inventory upload calls<br>\n",
    "    e) Wrap user identity calls<br>\n",
    "    f) Wrap user collection calls<br>\n",
    "    g) Wrap user wantlist calls<br>\n",
    "    h) Wrap user lists calls<br>\n",
    "\n",
    "2. Create response wrapper"
   ]
  },
  {
   "cell_type": "markdown",
   "metadata": {},
   "source": [
    "## How to use\n",
    "> For detailed explanation please visit the [documentation](https://cpow-89.github.io/discogspy/)."
   ]
  },
  {
   "cell_type": "markdown",
   "metadata": {},
   "source": [
    "Currently, you have two options for starting requests to discogs.\n",
    "\n",
    "1. Create a user object without authentication. This will limit your options cause a lot of api calls require authentication."
   ]
  },
  {
   "cell_type": "code",
   "execution_count": null,
   "metadata": {},
   "outputs": [],
   "source": [
    "from discogspy.core.discogs_user import UserWithoutAuthentication\n",
    "from discogspy.core import database_rq\n",
    "\n",
    "user = UserWithoutAuthentication()\n",
    "resp = database_rq.get_release(user, 1972502)"
   ]
  },
  {
   "cell_type": "markdown",
   "metadata": {},
   "source": [
    "2. Create a user object with user token authentication. This will allow you to send any request."
   ]
  },
  {
   "cell_type": "code",
   "execution_count": null,
   "metadata": {},
   "outputs": [],
   "source": [
    "from discogspy.core.discogs_user import UserWithUserTokenBasedAuthentication\n",
    "from discogspy.core import database_rq\n",
    "\n",
    "user_with_authentication = UserWithUserTokenBasedAuthentication(user_token=\"your_user_token\",\n",
    "                                                                user_agent=\"your_user_agent\")\n",
    "resp = database_rq.get_release(user, 1972502)"
   ]
  }
 ],
 "metadata": {
  "kernelspec": {
   "display_name": "Python 3",
   "language": "python",
   "name": "python3"
  }
 },
 "nbformat": 4,
 "nbformat_minor": 2
}
