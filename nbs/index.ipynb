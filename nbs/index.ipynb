{
 "cells": [
  {
   "cell_type": "code",
   "execution_count": null,
   "metadata": {},
   "outputs": [],
   "source": [
    "#hide\n",
    "from discogspy.core import *"
   ]
  },
  {
   "cell_type": "markdown",
   "metadata": {},
   "source": [
    "# Discogspy\n",
    "\n",
    "> Discogspy is a  type-safe and easy to use python wrapper around the Discogs API.\n",
    "><br><br>\n",
    "Note: This package is under substantial development. See Road Map for more information."
   ]
  },
  {
   "cell_type": "markdown",
   "metadata": {},
   "source": [
    "## General information\n",
    "\n",
    "<br>\n",
    "\n",
    "What's the use case for discogspy?\n",
    "\n",
    "<br>\n",
    "I have a small label/distro, and I sell my items via Discogs and my own website. To keep both stores in sync is tidies. That's why I want to automate this process. Therefore I need to be able to get information from my Discogs store. That can be done via the official Discogs python client. However, I also need to be able to update orders, add and remove items etc. and this doesn't seem to work via the Discogs python client. That's why I decided to wrap the Discogs API myself. \n",
    "<br><br><br>\n",
    "Important information:\n",
    "<br>\n",
    "Requests to the Discogs API are throttled by the server by source IP to 60 per minute for authenticated requests, and 25 per minute for unauthenticated requests, with some exceptions.\n",
    "\n"
   ]
  },
  {
   "cell_type": "markdown",
   "metadata": {},
   "source": [
    "## Install"
   ]
  },
  {
   "cell_type": "markdown",
   "metadata": {},
   "source": [
    "`pip install discogspy`\n"
   ]
  },
  {
   "cell_type": "markdown",
   "metadata": {},
   "source": [
    "## Road Map\n",
    "\n",
    "1. Create type save python wrapper around the Discogs API\n",
    "    \n",
    "    a) Wrap database calls (done - except search request cause I personally dont have any use case for it)<br>\n",
    "    b) Wrap marketplace calls (done)<br>\n",
    "    c) Wrap inventory export calls (done)<br>\n",
    "    d) Wrap inventory upload calls (done)<br>\n",
    "    e) Wrap user identity calls (maybe later - I personally dont have any use case for it)<br>\n",
    "    f) Wrap user collection calls (done)<br>\n",
    "    g) Wrap user wantlist calls (done)<br>\n",
    "    h) Wrap user lists calls<br>\n",
    "\n",
    "2. Create response wrapper"
   ]
  },
  {
   "cell_type": "markdown",
   "metadata": {},
   "source": [
    "## How to use"
   ]
  },
  {
   "cell_type": "markdown",
   "metadata": {},
   "source": [
    "For a detailed explanation and more examples, please visit the [documentation](https://cpow-89.github.io/discogspy/).\n",
    "\n",
    "Currently, you have two options for starting requests to Discogs.\n",
    "\n",
    "1. Create a user object without authentication. This will limit your options cause a lot of API calls do require authentication."
   ]
  },
  {
   "cell_type": "code",
   "execution_count": null,
   "metadata": {},
   "outputs": [],
   "source": [
    "from discogspy.core.discogs_user import UserWithoutAuthentication\n",
    "from discogspy.core import rq_database\n",
    "\n",
    "user = UserWithoutAuthentication()\n",
    "resp = rq_database.get_release(user, 1972502)"
   ]
  },
  {
   "cell_type": "markdown",
   "metadata": {},
   "source": [
    "2. Create a user object with user token authentication. This will allow you to send any request."
   ]
  },
  {
   "cell_type": "code",
   "execution_count": null,
   "metadata": {},
   "outputs": [],
   "source": [
    "from discogspy.core.discogs_user import UserWithUserTokenBasedAuthentication\n",
    "from discogspy.core import rq_database\n",
    "\n",
    "user_with_authentication = UserWithUserTokenBasedAuthentication(user_token=\"your_user_token\",\n",
    "                                                                user_agent=\"your_user_agent\")\n",
    "resp = rq_database.get_release(user, 1972502)"
   ]
  }
 ],
 "metadata": {
  "kernelspec": {
   "display_name": "Python 3",
   "language": "python",
   "name": "python3"
  }
 },
 "nbformat": 4,
 "nbformat_minor": 2
}
