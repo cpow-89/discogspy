{
 "cells": [
  {
   "cell_type": "code",
   "execution_count": null,
   "metadata": {},
   "outputs": [],
   "source": [
    "# default_exp core.constants"
   ]
  },
  {
   "cell_type": "code",
   "execution_count": null,
   "metadata": {},
   "outputs": [],
   "source": [
    "#hide\n",
    "%reload_ext autoreload\n",
    "%autoreload 2"
   ]
  },
  {
   "cell_type": "markdown",
   "metadata": {},
   "source": [
    "# Core Constants\n",
    "\n",
    "> Constants"
   ]
  },
  {
   "cell_type": "code",
   "execution_count": null,
   "metadata": {},
   "outputs": [],
   "source": [
    "#exports\n",
    "BASE_URL = \"https://api.discogs.com\"\n",
    "RELEASES_URL = f\"{BASE_URL}/releases\"\n",
    "MASTERS_URL = f\"{BASE_URL}/masters\"\n",
    "\n",
    "\"\"\"Valid currencies for marketplace data\"\"\"\n",
    "VALID_CURR_ABBR = [\"USD\", \"GBP\", \"EUR\", \"CAD\", \"AUD\", \"JPY\", \n",
    "                   \"CHF\", \"MXN\", \"BRL\", \"NZD\", \"SEK\", \"ZAR\"]\n",
    "\n",
    "\"\"\"Valid sort options\"\"\"\n",
    "VALID_SORT_OPTIONS = [\"released\", \"title\", \"format\", \"label\", \"catno\", \"country\"]\n",
    "\n",
    "\"\"\"Valid sort options\"\"\"\n",
    "VALID_SORT_ORDER = [\"asc\", \"desc\"]"
   ]
  },
  {
   "cell_type": "code",
   "execution_count": null,
   "metadata": {},
   "outputs": [
    {
     "name": "stdout",
     "output_type": "stream",
     "text": [
      "Converted 00_core.constants.ipynb.\n",
      "Converted 01_core.discogs_user.ipynb.\n",
      "Converted 02_core.database_rq.ipynb.\n",
      "Converted index.ipynb.\n"
     ]
    }
   ],
   "source": [
    "#hide\n",
    "from nbdev.export import *\n",
    "notebook2script()"
   ]
  }
 ],
 "metadata": {
  "kernelspec": {
   "display_name": "Python 3",
   "language": "python",
   "name": "python3"
  }
 },
 "nbformat": 4,
 "nbformat_minor": 2
}
