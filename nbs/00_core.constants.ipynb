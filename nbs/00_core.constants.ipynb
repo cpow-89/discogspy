{
 "cells": [
  {
   "cell_type": "code",
   "execution_count": null,
   "metadata": {},
   "outputs": [],
   "source": [
    "# default_exp core.constants"
   ]
  },
  {
   "cell_type": "code",
   "execution_count": null,
   "metadata": {},
   "outputs": [],
   "source": [
    "#hide\n",
    "%reload_ext autoreload\n",
    "%autoreload 2"
   ]
  },
  {
   "cell_type": "code",
   "execution_count": null,
   "metadata": {},
   "outputs": [],
   "source": [
    "#export\n",
    "from enum import Enum"
   ]
  },
  {
   "cell_type": "markdown",
   "metadata": {},
   "source": [
    "# Core Constants\n",
    "\n",
    "> Constants"
   ]
  },
  {
   "cell_type": "markdown",
   "metadata": {},
   "source": [
    "## Url's"
   ]
  },
  {
   "cell_type": "code",
   "execution_count": null,
   "metadata": {},
   "outputs": [],
   "source": [
    "#exports\n",
    "\n",
    "\n",
    "BASE_URL = \"https://api.discogs.com\"\n",
    "RELEASES_URL = f\"{BASE_URL}/releases\"\n",
    "MASTERS_URL = f\"{BASE_URL}/masters\"\n",
    "ARTIST_URL = f\"{BASE_URL}/artists\"\n",
    "LABEL_URL = f\"{BASE_URL}/labels\"\n",
    "USERS_URL = f\"{BASE_URL}/users\"\n",
    "MARKETPLACE_URL = f\"{BASE_URL}/marketplace\"\n",
    "LISTINGS_URL = f\"{MARKETPLACE_URL}/listings\"\n",
    "ORDERS_URL = f\"{MARKETPLACE_URL}/orders\"\n",
    "FEE_URL = f\"{MARKETPLACE_URL}/fee\""
   ]
  },
  {
   "cell_type": "markdown",
   "metadata": {},
   "source": [
    "## Optional Values"
   ]
  },
  {
   "cell_type": "markdown",
   "metadata": {},
   "source": [
    "### CurrAbbr"
   ]
  },
  {
   "cell_type": "code",
   "execution_count": null,
   "metadata": {},
   "outputs": [],
   "source": [
    "#exports\n",
    "\n",
    "\n",
    "class CurrAbbr(Enum):\n",
    "    \"\"\"\n",
    "    Valid currencies for marketplace data\n",
    "    \"\"\"\n",
    "    \n",
    "    USD = \"USD\"\n",
    "    GBP = \"GBP\"\n",
    "    EUR = \"EUR\"\n",
    "    CAD = \"CAD\"\n",
    "    AUD = \"AUD\"\n",
    "    JPY = \"JPY\"\n",
    "    CHF = \"CHF\"\n",
    "    MXN = \"MXN\"\n",
    "    BRL = \"BRL\"\n",
    "    NZD = \"NZD\"\n",
    "    SEK = \"SEK\"\n",
    "    ZAR = \"ZAR\"\n",
    "    "
   ]
  },
  {
   "cell_type": "markdown",
   "metadata": {},
   "source": [
    "### Sort options"
   ]
  },
  {
   "cell_type": "code",
   "execution_count": null,
   "metadata": {},
   "outputs": [],
   "source": [
    "#exports\n",
    "\n",
    "\n",
    "class SortOptionsMaster(Enum):\n",
    "    \"\"\"\n",
    "    Valid sort options for master releases.\n",
    "    \"\"\"\n",
    "    \n",
    "    released = \"released\"\n",
    "    title = \"title\"\n",
    "    format = \"format\"\n",
    "    label = \"label\"\n",
    "    catno = \"catno\"\n",
    "    country = \"country\"\n",
    "    "
   ]
  },
  {
   "cell_type": "code",
   "execution_count": null,
   "metadata": {},
   "outputs": [],
   "source": [
    "#exports\n",
    "\n",
    "\n",
    "class SortOptionsArtist(Enum):\n",
    "    \"\"\"\n",
    "    Valid sort options for artist releases.\n",
    "    \"\"\"\n",
    "    \n",
    "    year = \"year\"\n",
    "    title = \"title\"\n",
    "    format = \"format\"\n",
    "    "
   ]
  },
  {
   "cell_type": "code",
   "execution_count": null,
   "metadata": {},
   "outputs": [],
   "source": [
    "#exports\n",
    "\n",
    "\n",
    "class SortOptionsLabel(Enum):\n",
    "    \"\"\"\n",
    "    Valid sort options for label releases.\n",
    "    \"\"\"\n",
    "    \n",
    "    year = \"year\"\n",
    "    title = \"title\"\n",
    "    format = \"format\""
   ]
  },
  {
   "cell_type": "code",
   "execution_count": null,
   "metadata": {},
   "outputs": [],
   "source": [
    "#exports\n",
    "\n",
    "\n",
    "class SortOptionsInventory(Enum):\n",
    "    \"\"\"\n",
    "    Valid sort options for inventory.\n",
    "    \"\"\"\n",
    "    \n",
    "    listed = \"listed\"\n",
    "    price = \"price\"\n",
    "    item = \"item\"\n",
    "    artist = \"artist\"\n",
    "    label = \"label\"\n",
    "    catno = \"catno\"\n",
    "    audio = \"audio\"\n",
    "    status = \"status\" # when authenticated as the inventory owner\n",
    "    location = \"location\" # when authenticated as the inventory owner\n",
    "    "
   ]
  },
  {
   "cell_type": "code",
   "execution_count": null,
   "metadata": {},
   "outputs": [],
   "source": [
    "#exports\n",
    "\n",
    "\n",
    "class SortOptionsOrders(Enum):\n",
    "    \"\"\"\n",
    "    Valid sort options for orders.\n",
    "    \"\"\"\n",
    "    \n",
    "    id = \"id\"\n",
    "    buyer = \"buyer\"\n",
    "    created = \"created\"\n",
    "    status = \"status\"\n",
    "    last_activity = \"last_activity\""
   ]
  },
  {
   "cell_type": "markdown",
   "metadata": {},
   "source": [
    "### Sort order"
   ]
  },
  {
   "cell_type": "code",
   "execution_count": null,
   "metadata": {},
   "outputs": [],
   "source": [
    "#exports\n",
    "\n",
    "\n",
    "class SortOrder(Enum):\n",
    "    \"\"\"\n",
    "    Valid sort order options.\n",
    "    \"\"\"\n",
    "    \n",
    "    asc = \"asc\"\n",
    "    desc = \"desc\""
   ]
  },
  {
   "cell_type": "markdown",
   "metadata": {},
   "source": [
    "### Status options\n"
   ]
  },
  {
   "cell_type": "code",
   "execution_count": null,
   "metadata": {},
   "outputs": [],
   "source": [
    "#exports\n",
    "\n",
    "\n",
    "class StatusInventory(Enum):\n",
    "    \"\"\"\n",
    "    Valid status options for inventory items.\n",
    "    \"\"\"\n",
    "    \n",
    "    for_sale = \"For Sale\"\n",
    "    sold = \"Sold\"\n",
    "    draft = \"Draft\"\n",
    "    expired = \"Expired\""
   ]
  },
  {
   "cell_type": "code",
   "execution_count": null,
   "metadata": {},
   "outputs": [],
   "source": [
    "#exports  \n",
    "\n",
    "\n",
    "class StatusNewListing(Enum):\n",
    "    \"\"\"\n",
    "    Valid status options for inventory listing.\n",
    "    \"\"\"\n",
    "    \n",
    "    for_sale = \"For Sale\"\n",
    "    draft = \"Draft\"\n",
    "    "
   ]
  },
  {
   "cell_type": "code",
   "execution_count": null,
   "metadata": {},
   "outputs": [],
   "source": [
    "#exports  \n",
    "\n",
    "\n",
    "class StatusOrder(Enum):\n",
    "    \"\"\"\n",
    "    Valid status options for updating an order.\n",
    "    \"\"\"\n",
    "    \n",
    "    new_order = \"New Order\"\n",
    "    buyer_contacted = \"Buyer Contacted\"\n",
    "    invoice_sent = \"Invoice Sent\"\n",
    "    payment_pending = \"Payment Pending\"\n",
    "    payment_received = \"Payment Received\"\n",
    "    shipped = \"Shipped\"\n",
    "    refund_sent = \"Refund Sent\"\n",
    "    cancelled_no_payment = \"Cancelled (Non-Paying Buyer)\"\n",
    "    cancelled_item_unavailable = \"Cancelled (Item Unavailable)\"\n",
    "    cancelled_buyer_request = \"Cancelled (Per Buyer's Request)\""
   ]
  },
  {
   "cell_type": "code",
   "execution_count": null,
   "metadata": {},
   "outputs": [],
   "source": [
    "#exports\n",
    "\n",
    "\n",
    "class StatusOrders(Enum):\n",
    "    \"\"\"\n",
    "    Valid status options for filtering order list.\n",
    "    \"\"\"\n",
    "    \n",
    "    all = \"All\"\n",
    "    new_order = \"New Order\"\n",
    "    invoice_sent = \"Invoice Sent\"\n",
    "    buyer_contacted = \"Buyer Contacted\"\n",
    "    payment_pending = \"Payment Pending\"\n",
    "    payment_received = \"Payment Received\"\n",
    "    shipped = \"Shipped\"\n",
    "    merged = \"Merged\"\n",
    "    order_changed = \"Order Changed\"\n",
    "    refund_sent = \"Refund Sent\"\n",
    "    cancelled = \"Cancelled\"\n",
    "    cancelled_no_payment = \"Cancelled (Non-Paying Buyer)\"\n",
    "    cancelled_item_unavailable = \"Cancelled (Item Unavailable)\"\n",
    "    cancelled_buyer_request = \"Cancelled (Per Buyer's Request)\"\n",
    "    cancelled_refund_received = \"Cancelled (Refund Received)\""
   ]
  },
  {
   "cell_type": "markdown",
   "metadata": {},
   "source": [
    "## Conditions"
   ]
  },
  {
   "cell_type": "markdown",
   "metadata": {},
   "source": [
    "## Release Condition"
   ]
  },
  {
   "cell_type": "code",
   "execution_count": null,
   "metadata": {},
   "outputs": [],
   "source": [
    "#exports\n",
    "\n",
    "\n",
    "class ReleaseCondition(Enum):\n",
    "    \"\"\"\n",
    "    Valid release conditions.\n",
    "    \"\"\"\n",
    "    \n",
    "    mint = \"Mint (M)\"\n",
    "    near_mint = \"Near Mint (NM or M-)\"\n",
    "    very_good_plus = \"Very Good Plus (VG+)\"\n",
    "    very_good = \"Very Good (VG)\"   \n",
    "    good_plus = \"Good Plus (G+)\"   \n",
    "    good = \"Good (G)\"   \n",
    "    fair = \"Fair (F)\"   \n",
    "    poor = \"Poor (P)\"   \n",
    "    "
   ]
  },
  {
   "cell_type": "code",
   "execution_count": null,
   "metadata": {},
   "outputs": [],
   "source": [
    "#exports\n",
    "\n",
    "\n",
    "class SleeveCondition(Enum):\n",
    "    \"\"\"\n",
    "    Valid listing conditions.\n",
    "    \"\"\"\n",
    "    \n",
    "    mint = \"Mint (M)\"\n",
    "    near_mint = \"Near Mint (NM or M-)\"\n",
    "    very_good_plus = \"Very Good Plus (VG+)\"\n",
    "    very_good = \"Very Good (VG)\"   \n",
    "    good_plus = \"Good Plus (G+)\"   \n",
    "    good = \"Good (G)\"   \n",
    "    fair = \"Fair (F)\"   \n",
    "    poor = \"Poor (P)\"      \n",
    "    generic = \"Generic\"\n",
    "    not_graded = \"Not Graded\"\n",
    "    no_cover = \"No Cover\"\n",
    "    "
   ]
  },
  {
   "cell_type": "code",
   "execution_count": null,
   "metadata": {},
   "outputs": [
    {
     "name": "stdout",
     "output_type": "stream",
     "text": [
      "Converted 00_core.constants.ipynb.\n",
      "Converted 01_core.discogs_user.ipynb.\n",
      "Converted 02_core.rq_database.ipynb.\n",
      "Converted 03_core.rq_marketplace.ipynb.\n",
      "Converted index.ipynb.\n"
     ]
    }
   ],
   "source": [
    "#hide\n",
    "from nbdev.export import *\n",
    "notebook2script()"
   ]
  }
 ],
 "metadata": {
  "kernelspec": {
   "display_name": "Python 3",
   "language": "python",
   "name": "python3"
  }
 },
 "nbformat": 4,
 "nbformat_minor": 2
}
