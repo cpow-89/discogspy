{
 "cells": [
  {
   "cell_type": "code",
   "execution_count": null,
   "metadata": {},
   "outputs": [],
   "source": [
    "# default_exp core.constants"
   ]
  },
  {
   "cell_type": "code",
   "execution_count": null,
   "metadata": {},
   "outputs": [],
   "source": [
    "#hide\n",
    "%reload_ext autoreload\n",
    "%autoreload 2"
   ]
  },
  {
   "cell_type": "code",
   "execution_count": null,
   "metadata": {},
   "outputs": [],
   "source": [
    "#export\n",
    "from enum import Enum"
   ]
  },
  {
   "cell_type": "markdown",
   "metadata": {},
   "source": [
    "# Core Constants\n",
    "\n",
    "> Constants"
   ]
  },
  {
   "cell_type": "markdown",
   "metadata": {},
   "source": [
    "## Url's"
   ]
  },
  {
   "cell_type": "code",
   "execution_count": null,
   "metadata": {},
   "outputs": [],
   "source": [
    "#exports\n",
    "\n",
    "\n",
    "BASE_URL = \"https://api.discogs.com\"\n",
    "RELEASES_URL = f\"{BASE_URL}/releases\"\n",
    "MASTERS_URL = f\"{BASE_URL}/masters\"\n",
    "ARTIST_URL = f\"{BASE_URL}/artists\"\n",
    "LABEL_URL = f\"{BASE_URL}/labels\""
   ]
  },
  {
   "cell_type": "markdown",
   "metadata": {},
   "source": [
    "## Optional Values"
   ]
  },
  {
   "cell_type": "markdown",
   "metadata": {},
   "source": [
    "### CurrAbbr"
   ]
  },
  {
   "cell_type": "code",
   "execution_count": null,
   "metadata": {},
   "outputs": [],
   "source": [
    "#exports\n",
    "\n",
    "\n",
    "class CurrAbbr(Enum):\n",
    "    \"\"\"\n",
    "    Valid currencies for marketplace data\n",
    "    \"\"\"\n",
    "    \n",
    "    USD = 0\n",
    "    GBP = 1\n",
    "    EUR = 2\n",
    "    CAD = 3\n",
    "    AUD = 4\n",
    "    JPY = 5\n",
    "    CHF = 6\n",
    "    MXN = 7\n",
    "    BRL = 8\n",
    "    NZD = 9\n",
    "    SEK = 10\n",
    "    ZAR = 11\n",
    "    "
   ]
  },
  {
   "cell_type": "markdown",
   "metadata": {},
   "source": [
    "### Sort options"
   ]
  },
  {
   "cell_type": "code",
   "execution_count": null,
   "metadata": {},
   "outputs": [],
   "source": [
    "#exports\n",
    "\n",
    "\n",
    "class SortOptionsMaster(Enum):\n",
    "    \"\"\"\n",
    "    Valid sort options for master releases.\n",
    "    \"\"\"\n",
    "    \n",
    "    released = 0\n",
    "    title = 1\n",
    "    format = 2\n",
    "    label = 3\n",
    "    catno = 4\n",
    "    country = 5\n",
    "    \n",
    "\n",
    "class SortOptionsArtist(Enum):\n",
    "    \"\"\"\n",
    "    Valid sort options for artist releases.\n",
    "    \"\"\"\n",
    "    \n",
    "    year = 0\n",
    "    title = 1\n",
    "    format = 2\n",
    "\n",
    "\n",
    "class SortOptionsLabel(Enum):\n",
    "    \"\"\"\n",
    "    Valid sort options for label releases.\n",
    "    \"\"\"\n",
    "    \n",
    "    year = 0\n",
    "    title = 1\n",
    "    format = 2\n"
   ]
  },
  {
   "cell_type": "markdown",
   "metadata": {},
   "source": [
    "### Sort order"
   ]
  },
  {
   "cell_type": "code",
   "execution_count": null,
   "metadata": {},
   "outputs": [],
   "source": [
    "#exports\n",
    "\n",
    "\n",
    "class SortOrder(Enum):\n",
    "    \"\"\"\n",
    "    Valid sort order options.\n",
    "    \"\"\"\n",
    "    \n",
    "    asc = 0\n",
    "    desc = 1\n"
   ]
  },
  {
   "cell_type": "code",
   "execution_count": null,
   "metadata": {},
   "outputs": [
    {
     "name": "stdout",
     "output_type": "stream",
     "text": [
      "Converted 00_core.constants.ipynb.\n",
      "Converted 01_core.discogs_user.ipynb.\n",
      "Converted 02_core.database_rq.ipynb.\n",
      "Converted index.ipynb.\n"
     ]
    }
   ],
   "source": [
    "#hide\n",
    "from nbdev.export import *\n",
    "notebook2script()"
   ]
  }
 ],
 "metadata": {
  "kernelspec": {
   "display_name": "Python 3",
   "language": "python",
   "name": "python3"
  }
 },
 "nbformat": 4,
 "nbformat_minor": 2
}
