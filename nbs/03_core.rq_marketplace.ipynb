{
 "cells": [
  {
   "cell_type": "code",
   "execution_count": null,
   "metadata": {},
   "outputs": [],
   "source": [
    "# default_exp core.rq_marketplace"
   ]
  },
  {
   "cell_type": "code",
   "execution_count": null,
   "metadata": {},
   "outputs": [],
   "source": [
    "#hide\n",
    "%reload_ext autoreload\n",
    "%autoreload 2"
   ]
  },
  {
   "cell_type": "code",
   "execution_count": null,
   "metadata": {},
   "outputs": [],
   "source": [
    "#hide\n",
    "from nbdev.showdoc import *\n",
    "import json\n",
    "import responses\n",
    "from pathlib import Path\n",
    "from discogspy.core import *"
   ]
  },
  {
   "cell_type": "code",
   "execution_count": null,
   "metadata": {},
   "outputs": [],
   "source": [
    "#hide\n",
    "with open(Path(\"../config/example_user_info.json\"), \"r\") as user_config_file:\n",
    "    config = json.load(user_config_file)\n",
    "    example_user = UserWithUserTokenBasedAuthentication(user_token=config[\"user_token\"],\n",
    "                                                        user_agent=config[\"user_agent\"])"
   ]
  },
  {
   "cell_type": "markdown",
   "metadata": {},
   "source": [
    "# Core Marketplace Requests\n",
    "\n",
    "> Core.rq_marketplace is a collection of function wrappers around the Discogs api for marketplace interactions."
   ]
  },
  {
   "cell_type": "code",
   "execution_count": null,
   "metadata": {},
   "outputs": [],
   "source": [
    "#export\n",
    "import requests\n",
    "from typing import Union\n",
    "from discogspy.core import *"
   ]
  },
  {
   "cell_type": "markdown",
   "metadata": {},
   "source": [
    "## Inventory"
   ]
  },
  {
   "cell_type": "code",
   "execution_count": null,
   "metadata": {},
   "outputs": [],
   "source": [
    "#export\n",
    "\n",
    "\n",
    "def get_inventory(user: Union[UserWithoutAuthentication,\n",
    "                              UserWithUserTokenBasedAuthentication], \n",
    "                  username: str,\n",
    "                  status: Union[StatusInventory, None] = None,\n",
    "                  page: Union[int, None] = None,\n",
    "                  per_page: Union[int, None] = None,\n",
    "                  sort: Union[SortOptionsInventory, None] = None,\n",
    "                  sort_order: Union[SortOrder, None] = None) -> requests.models.Response:\n",
    "    \"\"\"\n",
    "    Get a list of listings of a given user inventory.\n",
    "    \n",
    "    No user Authentication needed. \n",
    "    \n",
    "    Note from the Discogs API: \"If you are not authenticated as the inventory owner, \n",
    "    only items that have a status of For Sale will be visible.\n",
    "    If you are authenticated as the inventory owner you will get additional weight, \n",
    "    format_quantity, external_id, and location keys.\n",
    "    If the user is authorized, the listing will contain a in_cart boolean \n",
    "    field indicating whether or not this listing is in their cart.\"    \n",
    "    \"\"\"\n",
    "    url = f\"{USERS_URL}/{username}/inventory\"\n",
    "    headers = user.headers\n",
    "    params = user.params\n",
    "    if status:\n",
    "        if type(user) is UserWithoutAuthentication:\n",
    "            params[\"status\"] = StatusInventory.for_sale.value\n",
    "        else:\n",
    "            params[\"status\"] = status.value\n",
    "    if page:\n",
    "        params[\"page\"] = max(1, page)\n",
    "    if per_page:\n",
    "        params[\"per_page\"] = max(1, per_page)\n",
    "    if sort:\n",
    "        if type(user) is UserWithoutAuthentication and (sort is not SortOptionsInventory.status and \n",
    "                                                        sort is not SortOptionsInventory.location):\n",
    "            params[\"sort\"] = sort.name   \n",
    "        else:\n",
    "            params[\"sort\"] = sort.name   \n",
    "    if sort_order:\n",
    "        params[\"sort_order\"] = sort_order.name\n",
    "    return requests.get(url, headers=headers, params=params)"
   ]
  },
  {
   "cell_type": "code",
   "execution_count": null,
   "metadata": {},
   "outputs": [
    {
     "data": {
      "text/plain": [
       "<Response [200]>"
      ]
     },
     "execution_count": null,
     "metadata": {},
     "output_type": "execute_result"
    }
   ],
   "source": [
    "# Example for usage of get_inventory\n",
    "get_inventory(user=example_user, username=\"Les_nuits_noires\", status=StatusInventory.for_sale,\n",
    "              page=1, per_page=3, sort=SortOptionsInventory.price, sort_order=SortOrder.asc)"
   ]
  },
  {
   "cell_type": "code",
   "execution_count": null,
   "metadata": {},
   "outputs": [],
   "source": [
    "#hide\n",
    "\n",
    "@responses.activate\n",
    "def test_get_inventory___authentication_none():\n",
    "    test_user = UserWithoutAuthentication()\n",
    "    \n",
    "    target_url = f\"{USERS_URL}/user_name/inventory?status=For+Sale&page=1&per_page=3&sort=price&sort_order=asc\"\n",
    "    \n",
    "    result_content = {\"TestInventory\": \"TestContent\"}\n",
    "    \n",
    "    responses.add(responses.GET, target_url,\n",
    "                  json=result_content, status=200)\n",
    "\n",
    "    resp = get_inventory(user=test_user, username=\"user_name\", status=StatusInventory.for_sale,\n",
    "              page=1, per_page=3, sort=SortOptionsInventory.price, sort_order=SortOrder.asc)\n",
    "\n",
    "    assert resp.json() == result_content\n",
    "    assert len(responses.calls) == 1\n",
    "    assert responses.calls[0].request.url == target_url\n",
    "\n",
    "test_get_inventory___authentication_none()\n",
    "\n",
    "@responses.activate\n",
    "def test_get_inventory___authentication_user_token():\n",
    "    test_user = UserWithUserTokenBasedAuthentication(user_token=\"test_user_token\",\n",
    "                                                     user_agent=\"test_user_agent\")\n",
    "\n",
    "    target_url = f\"{USERS_URL}/user_name/inventory?token=test_user_token&status=Sold&page=1&per_page=3&sort=price&sort_order=asc\"\n",
    "    \n",
    "    result_content = {\"TestInventory\": \"TestContent\"}\n",
    "    \n",
    "    responses.add(responses.GET, target_url,\n",
    "                  json=result_content, status=200)\n",
    "\n",
    "    resp = get_inventory(user=test_user, username=\"user_name\", status=StatusInventory.sold,\n",
    "              page=1, per_page=3, sort=SortOptionsInventory.price, sort_order=SortOrder.asc)\n",
    "\n",
    "    assert resp.json() == result_content\n",
    "    assert len(responses.calls) == 1\n",
    "    assert responses.calls[0].request.url == target_url\n",
    "    \n",
    "test_get_inventory___authentication_user_token()"
   ]
  },
  {
   "cell_type": "markdown",
   "metadata": {},
   "source": [
    "## Listing"
   ]
  },
  {
   "cell_type": "code",
   "execution_count": null,
   "metadata": {},
   "outputs": [],
   "source": [
    "#export\n",
    "\n",
    "\n",
    "def get_listing(user: Union[UserWithoutAuthentication,\n",
    "                            UserWithUserTokenBasedAuthentication], \n",
    "                listing_id: int,\n",
    "                curr_abbr: Union[CurrAbbr, None] = None) -> requests.models.Response:\n",
    "    \"\"\"\n",
    "    Get all the information about the requested listing from the given user inventory.\n",
    "    \n",
    "    No user Authentication needed. \n",
    "    \n",
    "    Note from the Discogs API: \"If the authorized user is the listing owner the listing \n",
    "    will include the weight, format_quantity, external_id, and location keys. \n",
    "    If the user is authorized, the listing will contain a in_cart boolean field \n",
    "    indicating whether or not this listing is in their cart.\"\n",
    "    \"\"\"\n",
    "    url = f\"{LISTINGS_URL}/{listing_id}\"\n",
    "    headers = user.headers\n",
    "    params = user.params\n",
    "    if curr_abbr: \n",
    "        params[\"curr_abbr\"] = curr_abbr.value\n",
    "    return requests.get(url, headers=headers, params=params)"
   ]
  },
  {
   "cell_type": "code",
   "execution_count": null,
   "metadata": {},
   "outputs": [
    {
     "data": {
      "text/plain": [
       "<Response [200]>"
      ]
     },
     "execution_count": null,
     "metadata": {},
     "output_type": "execute_result"
    }
   ],
   "source": [
    "# Example for usage of get_listing\n",
    "get_listing(user=example_user, listing_id=1034876519, curr_abbr=CurrAbbr.EUR)"
   ]
  },
  {
   "cell_type": "code",
   "execution_count": null,
   "metadata": {},
   "outputs": [],
   "source": [
    "#hide\n",
    "\n",
    "@responses.activate\n",
    "def test_get_listing___authentication_none():\n",
    "    test_user = UserWithoutAuthentication()\n",
    "    \n",
    "    target_url = f\"{LISTINGS_URL}/123456?curr_abbr=EUR\"\n",
    "    \n",
    "    result_content = {\"TestListing\": \"TestContent\"}\n",
    "    \n",
    "    responses.add(responses.GET, target_url,\n",
    "                  json=result_content, status=200)\n",
    "\n",
    "    resp = get_listing(user=test_user, listing_id=123456, curr_abbr=CurrAbbr.EUR)\n",
    "\n",
    "    assert resp.json() == result_content\n",
    "    assert len(responses.calls) == 1\n",
    "    assert responses.calls[0].request.url == target_url\n",
    "\n",
    "test_get_listing___authentication_none()\n",
    "\n",
    "@responses.activate\n",
    "def test_get_listing___authentication_user_token():\n",
    "    test_user = UserWithUserTokenBasedAuthentication(user_token=\"test_user_token\",\n",
    "                                                     user_agent=\"test_user_agent\")\n",
    "\n",
    "    target_url = f\"{LISTINGS_URL}/123456?token=test_user_token&curr_abbr=EUR\"\n",
    "    \n",
    "    result_content = {\"TestListing\": \"TestContent\"}\n",
    "    \n",
    "    responses.add(responses.GET, target_url,\n",
    "                  json=result_content, status=200)\n",
    "\n",
    "    resp = get_listing(user=test_user, listing_id=123456, curr_abbr=CurrAbbr.EUR)\n",
    "\n",
    "    assert resp.json() == result_content\n",
    "    assert len(responses.calls) == 1\n",
    "    assert responses.calls[0].request.url == target_url\n",
    "    \n",
    "test_get_listing___authentication_user_token()"
   ]
  },
  {
   "cell_type": "code",
   "execution_count": null,
   "metadata": {},
   "outputs": [
    {
     "name": "stdout",
     "output_type": "stream",
     "text": [
      "Converted 00_core.constants.ipynb.\n",
      "Converted 01_core.discogs_user.ipynb.\n",
      "Converted 02_core.rq_database.ipynb.\n",
      "Converted 03_core.rq_marketplace.ipynb.\n",
      "Converted index.ipynb.\n"
     ]
    }
   ],
   "source": [
    "#hide\n",
    "\n",
    "from nbdev.export import *\n",
    "notebook2script()"
   ]
  }
 ],
 "metadata": {
  "kernelspec": {
   "display_name": "Python 3",
   "language": "python",
   "name": "python3"
  }
 },
 "nbformat": 4,
 "nbformat_minor": 2
}
