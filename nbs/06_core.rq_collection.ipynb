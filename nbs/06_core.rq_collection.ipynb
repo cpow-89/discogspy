{
 "cells": [
  {
   "cell_type": "code",
   "execution_count": null,
   "metadata": {},
   "outputs": [],
   "source": [
    "# default_exp core.rq_collection"
   ]
  },
  {
   "cell_type": "code",
   "execution_count": null,
   "metadata": {},
   "outputs": [],
   "source": [
    "#hide\n",
    "%reload_ext autoreload\n",
    "%autoreload 2"
   ]
  },
  {
   "cell_type": "code",
   "execution_count": null,
   "metadata": {},
   "outputs": [],
   "source": [
    "#hide\n",
    "from nbdev.showdoc import *\n",
    "import json\n",
    "import responses\n",
    "from pathlib import Path\n",
    "from discogspy.core import *"
   ]
  },
  {
   "cell_type": "code",
   "execution_count": null,
   "metadata": {},
   "outputs": [],
   "source": [
    "#hide\n",
    "with open(Path(\"../config/example_user_info.json\"), \"r\") as user_config_file:\n",
    "    config = json.load(user_config_file)\n",
    "    example_user = UserWithUserTokenBasedAuthentication(user_token=config[\"user_token\"],\n",
    "                                                        user_agent=config[\"user_agent\"])"
   ]
  },
  {
   "cell_type": "markdown",
   "metadata": {},
   "source": [
    "# Core Collection Requests\n",
    "\n",
    "> Core.rq_collection is a collection of function wrappers around the Discogs api for getting user collection information."
   ]
  },
  {
   "cell_type": "code",
   "execution_count": null,
   "metadata": {},
   "outputs": [],
   "source": [
    "#export\n",
    "import requests\n",
    "from typing import Union\n",
    "from discogspy.core import *"
   ]
  },
  {
   "cell_type": "code",
   "execution_count": null,
   "metadata": {},
   "outputs": [],
   "source": [
    "#export\n",
    "\n",
    "\n",
    "def get_user_collection_folders(user: Union[UserWithoutAuthentication,\n",
    "                                      UserWithUserTokenBasedAuthentication],\n",
    "                                username: str) -> requests.models.Response:\n",
    "    \"\"\"\n",
    "    Get a list of folders in a user’s collection. \n",
    "    \n",
    "    Note: If you are not authenticated as the collection owner, \n",
    "          only folder ID 0 (the “All” folder) will be visible (if the requested user’s collection is public).\n",
    "    \n",
    "    No user Authentication needed. \n",
    "    \"\"\"\n",
    "    \n",
    "    url = f\"{USERS_URL}/{username}/collection/folders\"\n",
    "    headers = user.headers\n",
    "    params = user.params\n",
    "    \n",
    "    return requests.get(url, headers=headers, params=params)"
   ]
  },
  {
   "cell_type": "code",
   "execution_count": null,
   "metadata": {},
   "outputs": [],
   "source": [
    "# Example for usage of get_user_collection_folders\n",
    "get_user_collection_folders(user=example_user, username=\"discogspy\")"
   ]
  },
  {
   "cell_type": "code",
   "execution_count": null,
   "metadata": {},
   "outputs": [],
   "source": [
    "#hide\n",
    "\n",
    "@responses.activate\n",
    "def test_get_user_collection_folders___authentication_user_token():\n",
    "    test_user = UserWithUserTokenBasedAuthentication(user_token=\"test_user_token\",\n",
    "                                                     user_agent=\"test_user_agent\")\n",
    "\n",
    "    target_url = f\"{USERS_URL}/discogspy/collection/folders?token=test_user_token\"\n",
    "    \n",
    "    result_content = {\"TestCollection\": \"TestContent\"}\n",
    "    \n",
    "    responses.add(responses.GET, target_url,\n",
    "                  json=result_content, status=200)\n",
    "    \n",
    "    resp = get_user_collection_folders(user=test_user, username=\"discogspy\")\n",
    "\n",
    "    assert resp.json() == result_content\n",
    "    assert len(responses.calls) == 1\n",
    "    assert responses.calls[0].request.url == target_url\n",
    "    \n",
    "test_get_user_collection_folders___authentication_user_token()"
   ]
  },
  {
   "cell_type": "code",
   "execution_count": null,
   "metadata": {},
   "outputs": [
    {
     "name": "stdout",
     "output_type": "stream",
     "text": [
      "Converted 00_core.constants.ipynb.\n",
      "Converted 01_core.discogs_user.ipynb.\n",
      "Converted 02_core.rq_database.ipynb.\n",
      "Converted 03_core.rq_marketplace.ipynb.\n",
      "Converted 04_core.rq_inventory_export.ipynb.\n",
      "Converted 05_core.rq_inventory_upload.ipynb.\n",
      "Converted index.ipynb.\n"
     ]
    }
   ],
   "source": [
    "#hide\n",
    "\n",
    "from nbdev.export import *\n",
    "notebook2script()"
   ]
  }
 ],
 "metadata": {
  "kernelspec": {
   "display_name": "Python 3",
   "language": "python",
   "name": "python3"
  }
 },
 "nbformat": 4,
 "nbformat_minor": 2
}
