{
 "cells": [
  {
   "cell_type": "code",
   "execution_count": null,
   "metadata": {},
   "outputs": [],
   "source": [
    "# default_exp core.rq_inventory_upload"
   ]
  },
  {
   "cell_type": "code",
   "execution_count": null,
   "metadata": {},
   "outputs": [],
   "source": [
    "#hide\n",
    "%reload_ext autoreload\n",
    "%autoreload 2"
   ]
  },
  {
   "cell_type": "code",
   "execution_count": null,
   "metadata": {},
   "outputs": [],
   "source": [
    "#hide\n",
    "from nbdev.showdoc import *\n",
    "import json\n",
    "import responses\n",
    "from pathlib import Path\n",
    "from discogspy.core import *"
   ]
  },
  {
   "cell_type": "code",
   "execution_count": null,
   "metadata": {},
   "outputs": [],
   "source": [
    "#hide\n",
    "with open(Path(\"../config/example_user_info.json\"), \"r\") as user_config_file:\n",
    "    config = json.load(user_config_file)\n",
    "    example_user = UserWithUserTokenBasedAuthentication(user_token=config[\"user_token\"],\n",
    "                                                        user_agent=config[\"user_agent\"])"
   ]
  },
  {
   "cell_type": "markdown",
   "metadata": {},
   "source": [
    "# Core Inventory Upload Requests\n",
    "\n",
    "> Core.rq_inventory_upload is a collection of function wrappers around the Discogs api for inventory uploads."
   ]
  },
  {
   "cell_type": "code",
   "execution_count": null,
   "metadata": {},
   "outputs": [],
   "source": [
    "#export\n",
    "import requests\n",
    "from typing import Union\n",
    "import io\n",
    "from discogspy.core import *"
   ]
  },
  {
   "cell_type": "code",
   "execution_count": null,
   "metadata": {},
   "outputs": [],
   "source": [
    "#export\n",
    "\n",
    "\n",
    "def add_new_listings_using_csv(user: UserWithUserTokenBasedAuthentication,\n",
    "                               file: io.BufferedReader) -> requests.models.Response:\n",
    "    \"\"\"\n",
    "    Upload a csv file of listings to add to your inventory.\n",
    "    \n",
    "    User Authentication needed. \n",
    "    \"\"\"\n",
    "    \n",
    "    url = f\"{INVENTORY_UPLOAD_URL}/add\"\n",
    "    params = user.params\n",
    "    files = {\"upload\": file}\n",
    "\n",
    "    return requests.post(url, params=params, files=files)"
   ]
  },
  {
   "cell_type": "code",
   "execution_count": null,
   "metadata": {},
   "outputs": [
    {
     "data": {
      "text/plain": [
       "<Response [200]>"
      ]
     },
     "execution_count": null,
     "metadata": {},
     "output_type": "execute_result"
    }
   ],
   "source": [
    "# Example for usage of add_new_listings_using_csv\n",
    "with open(\"../test_example/file.csv\", \"rb\") as upload_file:\n",
    "    add_new_listings_using_csv(user=example_user, file=upload_file)"
   ]
  },
  {
   "cell_type": "code",
   "execution_count": null,
   "metadata": {},
   "outputs": [],
   "source": [
    "#hide\n",
    "\n",
    "@responses.activate\n",
    "def test_add_new_listings_using_csv___authentication_user_token():\n",
    "    test_user = UserWithUserTokenBasedAuthentication(user_token=\"test_user_token\",\n",
    "                                                     user_agent=\"test_user_agent\")\n",
    "\n",
    "    target_url = f\"{INVENTORY_UPLOAD_URL}/add?token=test_user_token\"\n",
    "    \n",
    "    result_content = {\"TestUpload\": \"TestContent\"}\n",
    "    \n",
    "    responses.add(responses.POST, target_url,\n",
    "                  json=result_content, status=200)\n",
    "    \n",
    "    with open(\"../test_example/file.csv\", \"rb\") as test_file:\n",
    "        resp = add_new_listings_using_csv(user=test_user, file=test_file)\n",
    "\n",
    "    assert resp.json() == result_content\n",
    "    assert len(responses.calls) == 1\n",
    "    assert responses.calls[0].request.url == target_url\n",
    "    \n",
    "test_add_new_listings_using_csv___authentication_user_token()"
   ]
  },
  {
   "cell_type": "code",
   "execution_count": null,
   "metadata": {},
   "outputs": [],
   "source": [
    "#export\n",
    "\n",
    "\n",
    "def update_existing_listings_using_csv(user: UserWithUserTokenBasedAuthentication,\n",
    "                                       file: io.BufferedReader) -> requests.models.Response:\n",
    "    \"\"\"\n",
    "    Upload a CSV file with updated information for existing listings.\n",
    "    \n",
    "    User Authentication needed. \n",
    "    \"\"\"\n",
    "    \n",
    "    url = f\"{INVENTORY_UPLOAD_URL}/change\"\n",
    "    params = user.params\n",
    "    files = {\"upload\": file}\n",
    "\n",
    "    return requests.post(url, params=params, files=files)"
   ]
  },
  {
   "cell_type": "code",
   "execution_count": null,
   "metadata": {},
   "outputs": [],
   "source": [
    "# Example for usage of update_existing_listings_using_csv\n",
    "with open(\"../test_example/file.csv\", \"rb\") as upload_file:\n",
    "    update_existing_listings_using_csv(user=example_user, file=upload_file)\n",
    "    "
   ]
  },
  {
   "cell_type": "code",
   "execution_count": null,
   "metadata": {},
   "outputs": [],
   "source": [
    "#hide\n",
    "\n",
    "@responses.activate\n",
    "def test_update_existing_listings_using_csv___authentication_user_token():\n",
    "    test_user = UserWithUserTokenBasedAuthentication(user_token=\"test_user_token\",\n",
    "                                                     user_agent=\"test_user_agent\")\n",
    "\n",
    "    target_url = f\"{INVENTORY_UPLOAD_URL}/change?token=test_user_token\"\n",
    "    \n",
    "    result_content = {\"TestUpload\": \"TestContent\"}\n",
    "    \n",
    "    responses.add(responses.POST, target_url,\n",
    "                  json=result_content, status=200)\n",
    "    \n",
    "    with open(\"../test_example/file.csv\", \"rb\") as test_file:\n",
    "        resp = update_existing_listings_using_csv(user=test_user, file=test_file)\n",
    "\n",
    "    assert resp.json() == result_content\n",
    "    assert len(responses.calls) == 1\n",
    "    assert responses.calls[0].request.url == target_url\n",
    "    \n",
    "test_update_existing_listings_using_csv___authentication_user_token()"
   ]
  },
  {
   "cell_type": "code",
   "execution_count": null,
   "metadata": {},
   "outputs": [],
   "source": [
    "#export\n",
    "\n",
    "\n",
    "def delete_listings_using_csv(user: UserWithUserTokenBasedAuthentication,\n",
    "                              file: io.BufferedReader) -> requests.models.Response:\n",
    "    \"\"\"\n",
    "    Upload a CSV file with listings to delete from your inventory.\n",
    "    \n",
    "    User Authentication needed. \n",
    "    \"\"\"\n",
    "    \n",
    "    url = f\"{INVENTORY_UPLOAD_URL}/delete\"\n",
    "    params = user.params\n",
    "    files = {\"upload\": file}\n",
    "\n",
    "    return requests.post(url, params=params, files=files)"
   ]
  },
  {
   "cell_type": "code",
   "execution_count": null,
   "metadata": {},
   "outputs": [],
   "source": [
    "# Example for usage of delete_listings_using_csv\n",
    "with open(\"../test_example/file.csv\", \"rb\") as upload_file:\n",
    "    delete_listings_using_csv(user=example_user, file=upload_file)\n",
    "  "
   ]
  },
  {
   "cell_type": "code",
   "execution_count": null,
   "metadata": {},
   "outputs": [],
   "source": [
    "#hide\n",
    "\n",
    "@responses.activate\n",
    "def test_delete_listings_using_csv___authentication_user_token():\n",
    "    test_user = UserWithUserTokenBasedAuthentication(user_token=\"test_user_token\",\n",
    "                                                     user_agent=\"test_user_agent\")\n",
    "\n",
    "    target_url = f\"{INVENTORY_UPLOAD_URL}/delete?token=test_user_token\"\n",
    "    \n",
    "    result_content = {\"TestUpload\": \"TestContent\"}\n",
    "    \n",
    "    responses.add(responses.POST, target_url,\n",
    "                  json=result_content, status=200)\n",
    "    \n",
    "    with open(\"../test_example/delete_file.csv\", \"rb\") as test_file:\n",
    "        resp = delete_listings_using_csv(user=test_user, file=test_file)\n",
    "\n",
    "    assert resp.json() == result_content\n",
    "    assert len(responses.calls) == 1\n",
    "    assert responses.calls[0].request.url == target_url\n",
    "    \n",
    "test_delete_listings_using_csv___authentication_user_token()  "
   ]
  },
  {
   "cell_type": "code",
   "execution_count": null,
   "metadata": {},
   "outputs": [],
   "source": [
    "#export\n",
    "\n",
    "\n",
    "def get_list_of_recent_uploads(user: UserWithUserTokenBasedAuthentication,\n",
    "                               page: Union[int, None] = None,\n",
    "                               per_page: Union[int, None] = None) -> requests.models.Response:\n",
    "    \"\"\"\n",
    "    Get a list of all recent inventory uploads.\n",
    "    \n",
    "    User Authentication needed. \n",
    "    \"\"\"\n",
    "    \n",
    "    url = f\"{INVENTORY_UPLOAD_URL}\"\n",
    "    headers = user.headers\n",
    "    params = user.params\n",
    "\n",
    "    if page:\n",
    "        params[\"page\"] = max(1, page)\n",
    "    if per_page:\n",
    "        params[\"per_page\"] = max(1, per_page)\n",
    "\n",
    "    return requests.get(url, headers=headers, params=params)"
   ]
  },
  {
   "cell_type": "code",
   "execution_count": null,
   "metadata": {},
   "outputs": [],
   "source": [
    "# Example for usage of get_list_of_recent_uploads\n",
    "get_list_of_recent_uploads(user=example_user, page=1, per_page=3)\n",
    "  "
   ]
  },
  {
   "cell_type": "code",
   "execution_count": null,
   "metadata": {},
   "outputs": [],
   "source": [
    "#hide\n",
    "\n",
    "@responses.activate\n",
    "def test_get_list_of_recent_uploads___authentication_user_token():\n",
    "    test_user = UserWithUserTokenBasedAuthentication(user_token=\"test_user_token\",\n",
    "                                                     user_agent=\"test_user_agent\")\n",
    "\n",
    "    target_url = f\"{INVENTORY_UPLOAD_URL}?token=test_user_token&page=1&per_page=3\"\n",
    "    \n",
    "    result_content = {\"TestUpload\": \"TestContent\"}\n",
    "    \n",
    "    responses.add(responses.GET, target_url,\n",
    "                  json=result_content, status=200)\n",
    "    \n",
    "    resp = get_list_of_recent_uploads(user=test_user, page=1, per_page=3)\n",
    "\n",
    "    assert resp.json() == result_content\n",
    "    assert len(responses.calls) == 1\n",
    "    assert responses.calls[0].request.url == target_url\n",
    "    \n",
    "test_get_list_of_recent_uploads___authentication_user_token()  "
   ]
  },
  {
   "cell_type": "code",
   "execution_count": null,
   "metadata": {},
   "outputs": [
    {
     "name": "stdout",
     "output_type": "stream",
     "text": [
      "Converted 00_core.constants.ipynb.\n",
      "Converted 01_core.discogs_user.ipynb.\n",
      "Converted 02_core.rq_database.ipynb.\n",
      "Converted 03_core.rq_marketplace.ipynb.\n",
      "Converted 04_core.rq_inventory_export.ipynb.\n",
      "Converted index.ipynb.\n"
     ]
    }
   ],
   "source": [
    "#hide\n",
    "\n",
    "from nbdev.export import *\n",
    "notebook2script()"
   ]
  }
 ],
 "metadata": {
  "kernelspec": {
   "display_name": "Python 3",
   "language": "python",
   "name": "python3"
  }
 },
 "nbformat": 4,
 "nbformat_minor": 2
}
